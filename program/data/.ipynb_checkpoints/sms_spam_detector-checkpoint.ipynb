{
 "cells": [
  {
   "cell_type": "code",
   "execution_count": 10,
   "metadata": {},
   "outputs": [],
   "source": [
    "import pandas as pd\n",
    "from sklearn.model_selection import train_test_split\n",
    "from nltk.tokenize import TweetTokenizer\n",
    "from sklearn.feature_extraction.text import CountVectorizer, TfidfVectorizer\n"
   ]
  },
  {
   "cell_type": "code",
   "execution_count": 11,
   "metadata": {},
   "outputs": [
    {
     "data": {
      "text/html": [
       "<div>\n",
       "<style scoped>\n",
       "    .dataframe tbody tr th:only-of-type {\n",
       "        vertical-align: middle;\n",
       "    }\n",
       "\n",
       "    .dataframe tbody tr th {\n",
       "        vertical-align: top;\n",
       "    }\n",
       "\n",
       "    .dataframe thead th {\n",
       "        text-align: right;\n",
       "    }\n",
       "</style>\n",
       "<table border=\"1\" class=\"dataframe\">\n",
       "  <thead>\n",
       "    <tr style=\"text-align: right;\">\n",
       "      <th></th>\n",
       "      <th>v1</th>\n",
       "      <th>v2</th>\n",
       "      <th>Unnamed: 2</th>\n",
       "      <th>Unnamed: 3</th>\n",
       "      <th>Unnamed: 4</th>\n",
       "    </tr>\n",
       "  </thead>\n",
       "  <tbody>\n",
       "    <tr>\n",
       "      <th>0</th>\n",
       "      <td>ham</td>\n",
       "      <td>Go until jurong point, crazy.. Available only ...</td>\n",
       "      <td>NaN</td>\n",
       "      <td>NaN</td>\n",
       "      <td>NaN</td>\n",
       "    </tr>\n",
       "    <tr>\n",
       "      <th>1</th>\n",
       "      <td>ham</td>\n",
       "      <td>Ok lar... Joking wif u oni...</td>\n",
       "      <td>NaN</td>\n",
       "      <td>NaN</td>\n",
       "      <td>NaN</td>\n",
       "    </tr>\n",
       "    <tr>\n",
       "      <th>2</th>\n",
       "      <td>spam</td>\n",
       "      <td>Free entry in 2 a wkly comp to win FA Cup fina...</td>\n",
       "      <td>NaN</td>\n",
       "      <td>NaN</td>\n",
       "      <td>NaN</td>\n",
       "    </tr>\n",
       "    <tr>\n",
       "      <th>3</th>\n",
       "      <td>ham</td>\n",
       "      <td>U dun say so early hor... U c already then say...</td>\n",
       "      <td>NaN</td>\n",
       "      <td>NaN</td>\n",
       "      <td>NaN</td>\n",
       "    </tr>\n",
       "    <tr>\n",
       "      <th>4</th>\n",
       "      <td>ham</td>\n",
       "      <td>Nah I don't think he goes to usf, he lives aro...</td>\n",
       "      <td>NaN</td>\n",
       "      <td>NaN</td>\n",
       "      <td>NaN</td>\n",
       "    </tr>\n",
       "  </tbody>\n",
       "</table>\n",
       "</div>"
      ],
      "text/plain": [
       "     v1                                                 v2 Unnamed: 2  \\\n",
       "0   ham  Go until jurong point, crazy.. Available only ...        NaN   \n",
       "1   ham                      Ok lar... Joking wif u oni...        NaN   \n",
       "2  spam  Free entry in 2 a wkly comp to win FA Cup fina...        NaN   \n",
       "3   ham  U dun say so early hor... U c already then say...        NaN   \n",
       "4   ham  Nah I don't think he goes to usf, he lives aro...        NaN   \n",
       "\n",
       "  Unnamed: 3 Unnamed: 4  \n",
       "0        NaN        NaN  \n",
       "1        NaN        NaN  \n",
       "2        NaN        NaN  \n",
       "3        NaN        NaN  \n",
       "4        NaN        NaN  "
      ]
     },
     "execution_count": 11,
     "metadata": {},
     "output_type": "execute_result"
    }
   ],
   "source": [
    "df = pd.read_csv('./spam.csv',encoding='latin1')\n",
    "df.head()"
   ]
  },
  {
   "cell_type": "code",
   "execution_count": 12,
   "metadata": {},
   "outputs": [
    {
     "data": {
      "text/plain": [
       "Index(['v1', 'v2', 'Unnamed: 2', 'Unnamed: 3', 'Unnamed: 4'], dtype='object')"
      ]
     },
     "execution_count": 12,
     "metadata": {},
     "output_type": "execute_result"
    }
   ],
   "source": [
    "df.columns"
   ]
  },
  {
   "cell_type": "code",
   "execution_count": 13,
   "metadata": {},
   "outputs": [],
   "source": [
    "df = df.drop(columns=['Unnamed: 2', 'Unnamed: 3', 'Unnamed: 4'])"
   ]
  },
  {
   "cell_type": "code",
   "execution_count": 14,
   "metadata": {},
   "outputs": [],
   "source": [
    "df.columns =['spam','text']\n"
   ]
  },
  {
   "cell_type": "code",
   "execution_count": 15,
   "metadata": {},
   "outputs": [
    {
     "data": {
      "text/html": [
       "<div>\n",
       "<style scoped>\n",
       "    .dataframe tbody tr th:only-of-type {\n",
       "        vertical-align: middle;\n",
       "    }\n",
       "\n",
       "    .dataframe tbody tr th {\n",
       "        vertical-align: top;\n",
       "    }\n",
       "\n",
       "    .dataframe thead th {\n",
       "        text-align: right;\n",
       "    }\n",
       "</style>\n",
       "<table border=\"1\" class=\"dataframe\">\n",
       "  <thead>\n",
       "    <tr style=\"text-align: right;\">\n",
       "      <th></th>\n",
       "      <th>spam</th>\n",
       "      <th>text</th>\n",
       "    </tr>\n",
       "  </thead>\n",
       "  <tbody>\n",
       "    <tr>\n",
       "      <th>0</th>\n",
       "      <td>ham</td>\n",
       "      <td>Go until jurong point, crazy.. Available only ...</td>\n",
       "    </tr>\n",
       "    <tr>\n",
       "      <th>1</th>\n",
       "      <td>ham</td>\n",
       "      <td>Ok lar... Joking wif u oni...</td>\n",
       "    </tr>\n",
       "    <tr>\n",
       "      <th>2</th>\n",
       "      <td>spam</td>\n",
       "      <td>Free entry in 2 a wkly comp to win FA Cup fina...</td>\n",
       "    </tr>\n",
       "    <tr>\n",
       "      <th>3</th>\n",
       "      <td>ham</td>\n",
       "      <td>U dun say so early hor... U c already then say...</td>\n",
       "    </tr>\n",
       "    <tr>\n",
       "      <th>4</th>\n",
       "      <td>ham</td>\n",
       "      <td>Nah I don't think he goes to usf, he lives aro...</td>\n",
       "    </tr>\n",
       "  </tbody>\n",
       "</table>\n",
       "</div>"
      ],
      "text/plain": [
       "   spam                                               text\n",
       "0   ham  Go until jurong point, crazy.. Available only ...\n",
       "1   ham                      Ok lar... Joking wif u oni...\n",
       "2  spam  Free entry in 2 a wkly comp to win FA Cup fina...\n",
       "3   ham  U dun say so early hor... U c already then say...\n",
       "4   ham  Nah I don't think he goes to usf, he lives aro..."
      ]
     },
     "execution_count": 15,
     "metadata": {},
     "output_type": "execute_result"
    }
   ],
   "source": [
    "df.head()"
   ]
  },
  {
   "cell_type": "code",
   "execution_count": 16,
   "metadata": {},
   "outputs": [],
   "source": [
    "df['spam'] = df['spam'].map({'ham':0,'spam':1})"
   ]
  },
  {
   "cell_type": "code",
   "execution_count": 17,
   "metadata": {},
   "outputs": [],
   "source": [
    "df['len_text'] = df['text'].apply(lambda x: len(x))"
   ]
  },
  {
   "cell_type": "code",
   "execution_count": 18,
   "metadata": {
    "scrolled": true
   },
   "outputs": [
    {
     "data": {
      "text/html": [
       "<div>\n",
       "<style scoped>\n",
       "    .dataframe tbody tr th:only-of-type {\n",
       "        vertical-align: middle;\n",
       "    }\n",
       "\n",
       "    .dataframe tbody tr th {\n",
       "        vertical-align: top;\n",
       "    }\n",
       "\n",
       "    .dataframe thead th {\n",
       "        text-align: right;\n",
       "    }\n",
       "</style>\n",
       "<table border=\"1\" class=\"dataframe\">\n",
       "  <thead>\n",
       "    <tr style=\"text-align: right;\">\n",
       "      <th></th>\n",
       "      <th>spam</th>\n",
       "      <th>text</th>\n",
       "      <th>len_text</th>\n",
       "    </tr>\n",
       "  </thead>\n",
       "  <tbody>\n",
       "    <tr>\n",
       "      <th>0</th>\n",
       "      <td>0</td>\n",
       "      <td>Go until jurong point, crazy.. Available only ...</td>\n",
       "      <td>111</td>\n",
       "    </tr>\n",
       "    <tr>\n",
       "      <th>1</th>\n",
       "      <td>0</td>\n",
       "      <td>Ok lar... Joking wif u oni...</td>\n",
       "      <td>29</td>\n",
       "    </tr>\n",
       "    <tr>\n",
       "      <th>2</th>\n",
       "      <td>1</td>\n",
       "      <td>Free entry in 2 a wkly comp to win FA Cup fina...</td>\n",
       "      <td>155</td>\n",
       "    </tr>\n",
       "    <tr>\n",
       "      <th>3</th>\n",
       "      <td>0</td>\n",
       "      <td>U dun say so early hor... U c already then say...</td>\n",
       "      <td>49</td>\n",
       "    </tr>\n",
       "    <tr>\n",
       "      <th>4</th>\n",
       "      <td>0</td>\n",
       "      <td>Nah I don't think he goes to usf, he lives aro...</td>\n",
       "      <td>61</td>\n",
       "    </tr>\n",
       "  </tbody>\n",
       "</table>\n",
       "</div>"
      ],
      "text/plain": [
       "   spam                                               text  len_text\n",
       "0     0  Go until jurong point, crazy.. Available only ...       111\n",
       "1     0                      Ok lar... Joking wif u oni...        29\n",
       "2     1  Free entry in 2 a wkly comp to win FA Cup fina...       155\n",
       "3     0  U dun say so early hor... U c already then say...        49\n",
       "4     0  Nah I don't think he goes to usf, he lives aro...        61"
      ]
     },
     "execution_count": 18,
     "metadata": {},
     "output_type": "execute_result"
    }
   ],
   "source": [
    "df.head()"
   ]
  },
  {
   "cell_type": "code",
   "execution_count": 22,
   "metadata": {
    "scrolled": false
   },
   "outputs": [
    {
     "name": "stdout",
     "output_type": "stream",
     "text": [
      "Ham Mean: 71.02362694300518\n",
      "Spam Mean:138.8661311914324\n"
     ]
    }
   ],
   "source": [
    "ham_mean = df[df['spam'] == 0]['len_text'].mean()\n",
    "spam_mean = df[df['spam'] == 1]['len_text'].mean()\n",
    "print('Ham Mean: {}\\nSpam Mean:{}'.format(ham_mean,spam_mean))"
   ]
  },
  {
   "cell_type": "markdown",
   "metadata": {},
   "source": [
    "### EDA"
   ]
  },
  {
   "cell_type": "code",
   "execution_count": 27,
   "metadata": {},
   "outputs": [],
   "source": [
    "import random\n",
    "import numpy as np\n",
    "random.seed(42)\n",
    "X_train, X_test, y_train, y_test = train_test_split(df['text'],df['spam'])\n",
    "\n",
    "pd.DataFrame({'text':X_test,'spam':y_test}).to_csv('./testing_data')"
   ]
  },
  {
   "cell_type": "code",
   "execution_count": 28,
   "metadata": {},
   "outputs": [],
   "source": [
    "twt_tokenizer = TweetTokenizer(preserve_case=False)\n",
    "\n",
    "cv = CountVectorizer(tokenizer= twt_tokenizer.tokenize,max_features=1000)\n",
    "X_train_text = cv.fit_transform(X_train)\n"
   ]
  },
  {
   "cell_type": "code",
   "execution_count": 29,
   "metadata": {},
   "outputs": [
    {
     "data": {
      "text/plain": [
       "MultinomialNB(alpha=1.0, class_prior=None, fit_prior=True)"
      ]
     },
     "execution_count": 29,
     "metadata": {},
     "output_type": "execute_result"
    }
   ],
   "source": [
    "from sklearn.naive_bayes import MultinomialNB\n",
    "mnb = MultinomialNB()\n",
    "mnb.fit(X_train_text,y_train)\n"
   ]
  },
  {
   "cell_type": "code",
   "execution_count": 30,
   "metadata": {},
   "outputs": [
    {
     "data": {
      "text/plain": [
       "0.9820531227566404"
      ]
     },
     "execution_count": 30,
     "metadata": {},
     "output_type": "execute_result"
    }
   ],
   "source": [
    "from sklearn.metrics import accuracy_score,confusion_matrix\n",
    "X_test_text = cv.transform(X_test)\n",
    "y_pred = mnb.predict(X_test_text)\n",
    "accuracy_score(y_test,y_pred)\n"
   ]
  },
  {
   "cell_type": "code",
   "execution_count": 31,
   "metadata": {},
   "outputs": [],
   "source": [
    "from helper_functions import plot_confusion_matrix"
   ]
  },
  {
   "cell_type": "code",
   "execution_count": 32,
   "metadata": {},
   "outputs": [
    {
     "name": "stdout",
     "output_type": "stream",
     "text": [
      "Confusion matrix, without normalization\n",
      "[[1216   11]\n",
      " [  14  152]]\n"
     ]
    },
    {
     "data": {
      "image/png": "[encoded data removed]",
      "text/plain": [
       "<Figure size 432x288 with 2 Axes>"
      ]
     },
     "metadata": {},
     "output_type": "display_data"
    }
   ],
   "source": [
    "cm = confusion_matrix(y_test,y_pred)\n",
    "plot_confusion_matrix(cm,classes=['ham','spam'])"
   ]
  },
  {
   "cell_type": "code",
   "execution_count": 33,
   "metadata": {},
   "outputs": [],
   "source": [
    "## check out this awesome resource on pipelines!!!! \n",
    "## https://www.kaggle.com/baghern/a-deep-dive-into-sklearn-pipelines"
   ]
  },
  {
   "cell_type": "markdown",
   "metadata": {},
   "source": [
    "#### Count Vectorizer"
   ]
  },
  {
   "cell_type": "code",
   "execution_count": 34,
   "metadata": {},
   "outputs": [],
   "source": [
    "from sklearn.pipeline import Pipeline\n",
    "from sklearn.model_selection import GridSearchCV\n",
    "pipeline = Pipeline([\n",
    "    ('count_vect',CountVectorizer(twt_tokenizer.tokenize)),\n",
    "    ('classifier',MultinomialNB())\n",
    "])\n",
    "\n",
    "hyperparameters = { 'count_vect__max_features':[1000,1500,2000],\n",
    "                  'count_vect__ngram_range': [(1,1),(1,2),(2,2)],\n",
    "                  'count_vect__stop_words': [None,'english']\n",
    "}"
   ]
  },
  {
   "cell_type": "code",
   "execution_count": 35,
   "metadata": {
    "scrolled": false
   },
   "outputs": [
    {
     "name": "stdout",
     "output_type": "stream",
     "text": [
      "Fitting 5 folds for each of 18 candidates, totalling 90 fits\n"
     ]
    },
    {
     "name": "stderr",
     "output_type": "stream",
     "text": [
      "[Parallel(n_jobs=-1)]: Done  42 tasks      | elapsed:    4.2s\n",
      "[Parallel(n_jobs=-1)]: Done  90 out of  90 | elapsed:    9.3s finished\n"
     ]
    },
    {
     "data": {
      "text/plain": [
       "GridSearchCV(cv=5, error_score='raise',\n",
       "       estimator=Pipeline(memory=None,\n",
       "     steps=[('count_vect', CountVectorizer(analyzer='word', binary=False, decode_error='strict',\n",
       "        dtype=<class 'numpy.int64'>, encoding='utf-8',\n",
       "        input=<bound method TweetTokenizer.tokenize of <nltk.tokenize.casual.TweetTokenizer object at 0x116c8dc18>>,\n",
       "        lowercase=True, max_df=1.0, ...None, vocabulary=None)), ('classifier', MultinomialNB(alpha=1.0, class_prior=None, fit_prior=True))]),\n",
       "       fit_params=None, iid=True, n_jobs=-1,\n",
       "       param_grid={'count_vect__max_features': [1000, 1500, 2000], 'count_vect__ngram_range': [(1, 1), (1, 2), (2, 2)], 'count_vect__stop_words': [None, 'english']},\n",
       "       pre_dispatch='2*n_jobs', refit=True, return_train_score='warn',\n",
       "       scoring=None, verbose=1)"
      ]
     },
     "execution_count": 35,
     "metadata": {},
     "output_type": "execute_result"
    }
   ],
   "source": [
    "gs = GridSearchCV(pipeline,hyperparameters,cv=5,verbose=1,n_jobs = -1)\n",
    "gs.fit(X_train,y_train)"
   ]
  },
  {
   "cell_type": "code",
   "execution_count": 36,
   "metadata": {
    "scrolled": true
   },
   "outputs": [
    {
     "data": {
      "text/plain": [
       "0.9839674563292654"
      ]
     },
     "execution_count": 36,
     "metadata": {},
     "output_type": "execute_result"
    }
   ],
   "source": [
    "gs.best_score_"
   ]
  },
  {
   "cell_type": "code",
   "execution_count": 37,
   "metadata": {},
   "outputs": [
    {
     "data": {
      "text/plain": [
       "{'count_vect__max_features': 1500,\n",
       " 'count_vect__ngram_range': (1, 1),\n",
       " 'count_vect__stop_words': None}"
      ]
     },
     "execution_count": 37,
     "metadata": {},
     "output_type": "execute_result"
    }
   ],
   "source": [
    "gs.best_params_"
   ]
  },
  {
   "cell_type": "code",
   "execution_count": 38,
   "metadata": {},
   "outputs": [],
   "source": [
    "mnb_model=gs.best_estimator_"
   ]
  },
  {
   "cell_type": "markdown",
   "metadata": {},
   "source": [
    "#### TF-IDF vectorizer"
   ]
  },
  {
   "cell_type": "code",
   "execution_count": 39,
   "metadata": {},
   "outputs": [
    {
     "name": "stdout",
     "output_type": "stream",
     "text": [
      "Fitting 5 folds for each of 18 candidates, totalling 90 fits\n"
     ]
    },
    {
     "name": "stderr",
     "output_type": "stream",
     "text": [
      "[Parallel(n_jobs=1)]: Done  90 out of  90 | elapsed:   14.2s finished\n"
     ]
    },
    {
     "data": {
      "text/plain": [
       "GridSearchCV(cv=5, error_score='raise',\n",
       "       estimator=Pipeline(memory=None,\n",
       "     steps=[('tf_idf_vect', TfidfVectorizer(analyzer='word', binary=False, decode_error='strict',\n",
       "        dtype=<class 'numpy.int64'>, encoding='utf-8',\n",
       "        input=<bound method TweetTokenizer.tokenize of <nltk.tokenize.casual.TweetTokenizer object at 0x116c8dc18>>,\n",
       "        lowercase=True, max_df=1.0,...      vocabulary=None)), ('classifier', MultinomialNB(alpha=1.0, class_prior=None, fit_prior=True))]),\n",
       "       fit_params=None, iid=True, n_jobs=1,\n",
       "       param_grid={'tf_idf_vect__max_features': [1000, 1500, 2000], 'tf_idf_vect__ngram_range': [(1, 1), (1, 2), (2, 2)], 'tf_idf_vect__stop_words': [None, 'english']},\n",
       "       pre_dispatch='2*n_jobs', refit=True, return_train_score='warn',\n",
       "       scoring=None, verbose=1)"
      ]
     },
     "execution_count": 39,
     "metadata": {},
     "output_type": "execute_result"
    }
   ],
   "source": [
    "pipeline_tf = Pipeline([\n",
    "    ('tf_idf_vect',TfidfVectorizer(twt_tokenizer.tokenize)),\n",
    "    ('classifier',MultinomialNB())\n",
    "])\n",
    "\n",
    "hyperparameters_tf = { 'tf_idf_vect__max_features':[1000,1500,2000],\n",
    "                  'tf_idf_vect__ngram_range': [(1,1),(1,2),(2,2)],\n",
    "                  'tf_idf_vect__stop_words': [None,'english']\n",
    "}\n",
    "gs_tf = GridSearchCV(pipeline_tf,hyperparameters_tf,cv=5,verbose=1)\n",
    "gs_tf.fit(X_train,y_train)"
   ]
  },
  {
   "cell_type": "code",
   "execution_count": 40,
   "metadata": {},
   "outputs": [
    {
     "data": {
      "text/plain": [
       "{'tf_idf_vect__max_features': 1500,\n",
       " 'tf_idf_vect__ngram_range': (1, 1),\n",
       " 'tf_idf_vect__stop_words': 'english'}"
      ]
     },
     "execution_count": 40,
     "metadata": {},
     "output_type": "execute_result"
    }
   ],
   "source": [
    "gs_tf.best_params_"
   ]
  },
  {
   "cell_type": "code",
   "execution_count": 46,
   "metadata": {},
   "outputs": [
    {
     "data": {
      "text/plain": [
       "0.9798994974874372"
      ]
     },
     "execution_count": 46,
     "metadata": {},
     "output_type": "execute_result"
    }
   ],
   "source": [
    "## performs worse than a count vectorizer\n",
    "gs_tf.best_score_"
   ]
  },
  {
   "cell_type": "code",
   "execution_count": 42,
   "metadata": {},
   "outputs": [
    {
     "data": {
      "text/plain": [
       "Pipeline(memory=None,\n",
       "     steps=[('count_vect', CountVectorizer(analyzer='word', binary=False, decode_error='strict',\n",
       "        dtype=<class 'numpy.int64'>, encoding='utf-8',\n",
       "        input=<bound method TweetTokenizer.tokenize of <nltk.tokenize.casual.TweetTokenizer object at 0x116c8dc18>>,\n",
       "        lowercase=True, max_df=1.0, ...None, vocabulary=None)), ('classifier', MultinomialNB(alpha=1.0, class_prior=None, fit_prior=True))])"
      ]
     },
     "execution_count": 42,
     "metadata": {},
     "output_type": "execute_result"
    }
   ],
   "source": [
    "### testing to see if my pipeline works as I expect\n",
    "pipeline.fit(X_train,y_train)"
   ]
  },
  {
   "cell_type": "code",
   "execution_count": 43,
   "metadata": {},
   "outputs": [
    {
     "data": {
      "text/plain": [
       "array([0, 0, 0, ..., 0, 0, 1])"
      ]
     },
     "execution_count": 43,
     "metadata": {},
     "output_type": "execute_result"
    }
   ],
   "source": [
    "### with many observations\n",
    "pipeline.predict(X_test)"
   ]
  },
  {
   "cell_type": "code",
   "execution_count": 45,
   "metadata": {},
   "outputs": [
    {
     "data": {
      "text/plain": [
       "array([1])"
      ]
     },
     "execution_count": 45,
     "metadata": {},
     "output_type": "execute_result"
    }
   ],
   "source": [
    "### with a single operation\n",
    "pipeline.predict(['Vodafone special offer if you subscribe now!!'])"
   ]
  },
  {
   "cell_type": "markdown",
   "metadata": {},
   "source": [
    "### Logistic Regression"
   ]
  },
  {
   "cell_type": "code",
   "execution_count": 47,
   "metadata": {},
   "outputs": [],
   "source": [
    "from sklearn.linear_model import LogisticRegression\n",
    "pipeline_lr = Pipeline([\n",
    "    ('count_vect',CountVectorizer(twt_tokenizer.tokenize)),\n",
    "    ('classifier',LogisticRegression())\n",
    "])\n",
    "\n",
    "hyperparameters_lr = { 'count_vect__max_features':[1000,1500,2000],\n",
    "                  'count_vect__ngram_range': [(1,1),(1,2),(2,2)],\n",
    "                  'count_vect__stop_words': [None,'english'],\n",
    "                   'classifier__C': [0.001,0.1,1,1000],\n",
    "                   'classifier__penalty' : ['l1','l2']\n",
    "                    }"
   ]
  },
  {
   "cell_type": "code",
   "execution_count": 48,
   "metadata": {},
   "outputs": [
    {
     "name": "stdout",
     "output_type": "stream",
     "text": [
      "Fitting 5 folds for each of 144 candidates, totalling 720 fits\n"
     ]
    },
    {
     "name": "stderr",
     "output_type": "stream",
     "text": [
      "[Parallel(n_jobs=-1)]: Done  42 tasks      | elapsed:    3.3s\n",
      "[Parallel(n_jobs=-1)]: Done 192 tasks      | elapsed:   14.4s\n",
      "[Parallel(n_jobs=-1)]: Done 442 tasks      | elapsed:   35.1s\n",
      "[Parallel(n_jobs=-1)]: Done 720 out of 720 | elapsed:   55.3s finished\n"
     ]
    },
    {
     "data": {
      "text/plain": [
       "GridSearchCV(cv=5, error_score='raise',\n",
       "       estimator=Pipeline(memory=None,\n",
       "     steps=[('count_vect', CountVectorizer(analyzer='word', binary=False, decode_error='strict',\n",
       "        dtype=<class 'numpy.int64'>, encoding='utf-8',\n",
       "        input=<bound method TweetTokenizer.tokenize of <nltk.tokenize.casual.TweetTokenizer object at 0x116c8dc18>>,\n",
       "        lowercase=True, max_df=1.0, ...ty='l2', random_state=None, solver='liblinear', tol=0.0001,\n",
       "          verbose=0, warm_start=False))]),\n",
       "       fit_params=None, iid=True, n_jobs=-1,\n",
       "       param_grid={'count_vect__max_features': [1000, 1500, 2000], 'count_vect__ngram_range': [(1, 1), (1, 2), (2, 2)], 'count_vect__stop_words': [None, 'english'], 'classifier__C': [0.001, 0.1, 1, 1000], 'classifier__penalty': ['l1', 'l2']},\n",
       "       pre_dispatch='2*n_jobs', refit=True, return_train_score='warn',\n",
       "       scoring=None, verbose=1)"
      ]
     },
     "execution_count": 48,
     "metadata": {},
     "output_type": "execute_result"
    }
   ],
   "source": [
    "gs_lr = GridSearchCV(pipeline_lr,hyperparameters_lr,cv=5,verbose=1,n_jobs = -1)\n",
    "gs_lr.fit(X_train,y_train)"
   ]
  },
  {
   "cell_type": "code",
   "execution_count": 49,
   "metadata": {
    "scrolled": true
   },
   "outputs": [
    {
     "name": "stdout",
     "output_type": "stream",
     "text": [
      "0.9813352476669059\n",
      "{'classifier__C': 1, 'classifier__penalty': 'l2', 'count_vect__max_features': 2000, 'count_vect__ngram_range': (1, 1), 'count_vect__stop_words': None}\n"
     ]
    }
   ],
   "source": [
    "print(gs_lr.best_score_)\n",
    "print(gs_lr.best_params_)\n",
    "lr_model = gs_lr.best_estimator_"
   ]
  },
  {
   "cell_type": "markdown",
   "metadata": {},
   "source": [
    "## Random Forest"
   ]
  },
  {
   "cell_type": "code",
   "execution_count": 50,
   "metadata": {},
   "outputs": [],
   "source": [
    "from sklearn.ensemble import RandomForestClassifier\n",
    "pipeline_rf = Pipeline([\n",
    "    ('count_vect',CountVectorizer(twt_tokenizer.tokenize)),\n",
    "    ('classifier',RandomForestClassifier())\n",
    "])\n",
    "\n",
    "hyperparameters_rf = { 'count_vect__max_features':[1000,1500,2000],\n",
    "                  'count_vect__ngram_range': [(1,1),(1,2),(2,2)],\n",
    "                  'count_vect__stop_words': [None,'english'],\n",
    "                   'classifier__max_depth':[1,3,None],\n",
    "                   'classifier__n_estimators':[10,100,200,300],\n",
    "                    'classifier__min_samples_leaf':[1,20,50],\n",
    "                      'classifier__n_jobs':[-1]\n",
    "                    }"
   ]
  },
  {
   "cell_type": "code",
   "execution_count": 51,
   "metadata": {
    "scrolled": true
   },
   "outputs": [
    {
     "name": "stdout",
     "output_type": "stream",
     "text": [
      "Fitting 5 folds for each of 648 candidates, totalling 3240 fits\n"
     ]
    },
    {
     "name": "stderr",
     "output_type": "stream",
     "text": [
      "[Parallel(n_jobs=-1)]: Done  42 tasks      | elapsed:    6.2s\n",
      "[Parallel(n_jobs=-1)]: Done 192 tasks      | elapsed:   35.6s\n",
      "[Parallel(n_jobs=-1)]: Done 442 tasks      | elapsed:  1.8min\n",
      "[Parallel(n_jobs=-1)]: Done 792 tasks      | elapsed:  3.3min\n",
      "[Parallel(n_jobs=-1)]: Done 1242 tasks      | elapsed:  5.2min\n",
      "[Parallel(n_jobs=-1)]: Done 1792 tasks      | elapsed:  8.1min\n",
      "[Parallel(n_jobs=-1)]: Done 2442 tasks      | elapsed: 12.1min\n",
      "[Parallel(n_jobs=-1)]: Done 3192 tasks      | elapsed: 17.5min\n",
      "[Parallel(n_jobs=-1)]: Done 3240 out of 3240 | elapsed: 17.8min finished\n"
     ]
    },
    {
     "data": {
      "text/plain": [
       "GridSearchCV(cv=5, error_score='raise',\n",
       "       estimator=Pipeline(memory=None,\n",
       "     steps=[('count_vect', CountVectorizer(analyzer='word', binary=False, decode_error='strict',\n",
       "        dtype=<class 'numpy.int64'>, encoding='utf-8',\n",
       "        input=<bound method TweetTokenizer.tokenize of <nltk.tokenize.casual.TweetTokenizer object at 0x116c8dc18>>,\n",
       "        lowercase=True, max_df=1.0, ...n_jobs=1,\n",
       "            oob_score=False, random_state=None, verbose=0,\n",
       "            warm_start=False))]),\n",
       "       fit_params=None, iid=True, n_jobs=-1,\n",
       "       param_grid={'count_vect__max_features': [1000, 1500, 2000], 'count_vect__ngram_range': [(1, 1), (1, 2), (2, 2)], 'count_vect__stop_words': [None, 'english'], 'classifier__max_depth': [1, 3, None], 'classifier__n_estimators': [10, 100, 200, 300], 'classifier__min_samples_leaf': [1, 20, 50], 'classifier__n_jobs': [-1]},\n",
       "       pre_dispatch='2*n_jobs', refit=True, return_train_score='warn',\n",
       "       scoring=None, verbose=1)"
      ]
     },
     "execution_count": 51,
     "metadata": {},
     "output_type": "execute_result"
    }
   ],
   "source": [
    "### this will take a while!!\n",
    "gs_rf = GridSearchCV(pipeline_rf,hyperparameters_rf,cv=5,verbose=1,n_jobs =-1)\n",
    "gs_rf.fit(X_train,y_train)"
   ]
  },
  {
   "cell_type": "code",
   "execution_count": 52,
   "metadata": {},
   "outputs": [],
   "source": [
    "rf_model =gs_rf.best_estimator_"
   ]
  },
  {
   "cell_type": "markdown",
   "metadata": {},
   "source": [
    "### Assuming we've decided on a best model, you can then \"pickle\" your trained model. This persists your trained model and enables you to use it in a web application without retraining the model each time. Typically, you'll only be pickling one model that you've deemed best, but for this example I'm going to save my top Naive Bayes, Logisitic Regression, and Random Forest models. \n",
    "\n",
    "Read more about them here: http://scikit-learn.org/stable/modules/model_persistence.html\n"
   ]
  },
  {
   "cell_type": "code",
   "execution_count": 54,
   "metadata": {},
   "outputs": [],
   "source": [
    "import pickle\n",
    "with open('mnb.pkl',mode='wb') as file:\n",
    "    pickle.dump(mnb_model,file)\n",
    "with open('lr.pkl',mode='wb') as file:\n",
    "    pickle.dump(lr_model,file)\n",
    "with open('rf.pkl','wb') as file:\n",
    "    pickle.dump(rf_model,file)"
   ]
  },
  {
   "cell_type": "code",
   "execution_count": 56,
   "metadata": {},
   "outputs": [],
   "source": [
    "import numpy as np\n",
    "mnb_coef = mnb_model.named_steps.classifier.coef_\n",
    "ordered_coef = np.argsort(mnb_coef[0])"
   ]
  },
  {
   "cell_type": "markdown",
   "metadata": {},
   "source": [
    "### More analysis for feature importance"
   ]
  },
  {
   "cell_type": "code",
   "execution_count": 57,
   "metadata": {},
   "outputs": [
    {
     "data": {
      "text/plain": [
       "array([ 749,  780,  781, ..., 1490,  221, 1300])"
      ]
     },
     "execution_count": 57,
     "metadata": {},
     "output_type": "execute_result"
    }
   ],
   "source": [
    "ordered_coef"
   ]
  },
  {
   "cell_type": "code",
   "execution_count": 59,
   "metadata": {},
   "outputs": [],
   "source": [
    "features = np.array(mnb_model.named_steps.count_vect.get_feature_names())"
   ]
  },
  {
   "cell_type": "code",
   "execution_count": 60,
   "metadata": {},
   "outputs": [
    {
     "data": {
      "text/plain": [
       "array(['lol', 'makes', 'making', 'malaria', 'march', 'mark', 'marriage',\n",
       "       'marry', 'mate', 'matter', 'mayb', 'mean', 'meaning', 'means',\n",
       "       'meant', 'medical', 'meeting', 'meh', 'merry', 'might', 'mine',\n",
       "       'miracle', 'mm', 'mo', 'mode', 'model', 'mail', 'maid', 'mah',\n",
       "       'ma', 'lect', 'leh', 'lei', 'less', 'lesson', 'lessons', 'lets',\n",
       "       'liao', 'library', 'lift', 'light', 'liked', 'mom', 'lmao', 'long',\n",
       "       'longer', 'looked', 'lor', 'lot', 'lovable', 'loved', 'lovely',\n",
       "       'loves', 'loving', 'lt', 'lunch', 'û_', 'moment', 'mon', 'monday',\n",
       "       'omg', 'omw', 'once', 'online', 'oops', 'orchard', 'oredi', 'oso',\n",
       "       'others', 'otherwise', 'outside', 'own', 'okie', 'pa', 'paper',\n",
       "       'parents', 'party', 'past', 'persons', 'pete', 'picking',\n",
       "       'pictures', 'pilates', 'pissed', 'pizza', 'plan', 'pain',\n",
       "       'leaving', 'okay', 'nope', 'moral', 'morning', 'mother', 'move',\n",
       "       'movies', 'mrng', 'mrt', 'mu', 'mum', 'murdered'], dtype='<U15')"
      ]
     },
     "execution_count": 60,
     "metadata": {},
     "output_type": "execute_result"
    }
   ],
   "source": [
    "features[ordered_coef][:100]"
   ]
  },
  {
   "cell_type": "code",
   "execution_count": 62,
   "metadata": {},
   "outputs": [
    {
     "data": {
      "text/plain": [
       "array(['want', 'ringtone', 'can', 'me', 'message', 'box', '10', 'go',\n",
       "       'has', 'more', 'at', 'code', 'shows', 'if', 'video', 'every',\n",
       "       'apply', 'mins', 'it', 'latest', 'find', 'number', '150ppm', 'by',\n",
       "       'line', 'landline', 'camera', 'as', 'been', '1000', 'sms', 'draw',\n",
       "       '100', 'min', 'awarded', 'per', '500', 'will', 'cs', 'phone', 'be',\n",
       "       'chat', 'guaranteed', 'we', 'customer', 'service', 'co', '18',\n",
       "       'contact', 'please', 'who', '16', 'tone', 'com', 'week', 'msg',\n",
       "       'win', '50', 'urgent', 'no', 'out', 'new', 'nokia', 'are', 'won',\n",
       "       'send', 'in', '150p', 'uk', 'cash', 'just', 'only', 'prize', 'get',\n",
       "       'this', 'our', 'of', 'www', 'reply', 'claim', 'with', 'and',\n",
       "       'have', 'text', 'stop', 'mobile', 'from', 'on', 'ur', 'is', 'txt',\n",
       "       'or', 'now', 'the', 'for', 'free', 'you', 'your', 'call', 'to'],\n",
       "      dtype='<U15')"
      ]
     },
     "execution_count": 62,
     "metadata": {},
     "output_type": "execute_result"
    }
   ],
   "source": [
    "features[ordered_coef][-100:]"
   ]
  },
  {
   "cell_type": "code",
   "execution_count": 63,
   "metadata": {},
   "outputs": [],
   "source": [
    "import plotly.plotly as py\n",
    "import plotly.graph_objs as go\n",
    "\n",
    "import numpy as np\n",
    "from itertools import cycle\n",
    "\n",
    "from sklearn import svm, datasets\n",
    "from sklearn.metrics import roc_curve, auc\n",
    "from sklearn.model_selection import train_test_split\n",
    "from sklearn.preprocessing import label_binarize\n",
    "from sklearn.multiclass import OneVsRestClassifier\n",
    "from scipy import interp"
   ]
  },
  {
   "cell_type": "markdown",
   "metadata": {},
   "source": [
    "## ROC Curve"
   ]
  },
  {
   "cell_type": "code",
   "execution_count": 64,
   "metadata": {},
   "outputs": [],
   "source": [
    "y_probs_mnb = mnb_model.predict_proba(X_test)\n",
    "y_probs_lr =  lr_model.predict_proba(X_test)\n",
    "y_probs_rf = rf_model.predict_proba(X_test)\n",
    "preds_mnb = y_probs_mnb[:,1]\n",
    "preds_lr = y_probs_lr[:,1]\n",
    "preds_rf = y_probs_rf[:,1]"
   ]
  },
  {
   "cell_type": "code",
   "execution_count": 65,
   "metadata": {},
   "outputs": [],
   "source": [
    "fpr_mnb, tpr_mnb, threshold_mnb = roc_curve(y_test, preds_mnb)\n",
    "fpr_lr, tpr_lr, threshold_lr = roc_curve(y_test, preds_lr)\n",
    "fpr_rf, tpr_rf, threshold_rf = roc_curve(y_test, preds_rf)\n",
    "roc_auc_mnb = auc(fpr_mnb,tpr_mnb)\n",
    "roc_auc_lr = auc(fpr_lr, tpr_lr)\n",
    "roc_auc_rf = auc(fpr_rf,tpr_rf)"
   ]
  },
  {
   "cell_type": "code",
   "execution_count": 66,
   "metadata": {},
   "outputs": [],
   "source": [
    "lw = 2\n",
    "\n",
    "trace1 = go.Scatter(x=fpr_mnb, y=tpr_mnb, \n",
    "                    mode='lines', \n",
    "                    line=dict(color='red', width=lw),\n",
    "                    name='ROC curve MNB (area = %0.5f)' % roc_auc_mnb\n",
    "                   )\n",
    "\n",
    "trace2 = go.Scatter(x=fpr_lr, y=tpr_lr, \n",
    "                    mode='lines', \n",
    "                    line=dict(color='green', width=lw),\n",
    "                    name='ROC curve Log Reg (area = %0.5f)' % roc_auc_lr\n",
    "                   )\n",
    "trace3 = go.Scatter(x=fpr_rf, y=tpr_rf, \n",
    "                    mode='lines', \n",
    "                    line=dict(color='darkorange', width=lw),\n",
    "                    name='ROC curve Random Forest (area = %0.5f)' % roc_auc_rf\n",
    "                   )\n",
    "\n",
    "trace4 = go.Scatter(x=[0, 1], y=[0, 1], \n",
    "                    mode='lines', \n",
    "                    line=dict(color='navy', width=lw, dash='dash'),\n",
    "                    showlegend=False)\n",
    "\n",
    "layout = go.Layout(title='Receiver operating characteristic example',\n",
    "                   xaxis=dict(title='False Positive Rate'),\n",
    "                   yaxis=dict(title='True Positive Rate'))\n",
    "\n",
    "fig = go.Figure(data=[trace1, trace2,trace3,trace4], layout=layout)"
   ]
  },
  {
   "cell_type": "code",
   "execution_count": 67,
   "metadata": {
    "scrolled": true
   },
   "outputs": [
    {
     "data": {
      "text/html": [
       "<script>requirejs.config({paths: { 'plotly': ['https://cdn.plot.ly/plotly-latest.min']},});if(!window.Plotly) {{require(['plotly'],function(plotly) {window.Plotly=plotly;});}}</script>"
      ],
      "text/vnd.plotly.v1+html": [
       "<script>requirejs.config({paths: { 'plotly': ['https://cdn.plot.ly/plotly-latest.min']},});if(!window.Plotly) {{require(['plotly'],function(plotly) {window.Plotly=plotly;});}}</script>"
      ]
     },
     "metadata": {},
     "output_type": "display_data"
    },
    {
     "data": {
      "application/vnd.plotly.v1+json": {
       "data": [
        {
         "line": {
          "color": "red",
          "width": 2
         },
         "mode": "lines",
         "name": "ROC curve MNB (area = 0.97598)",
         "type": "scatter",
         "x": [
          0,
          0,
          0,
          0,
          0,
          0,
          0,
          0,
          0,
          0,
          0,
          0.0016299918500407497,
          0.0016299918500407497,
          0.0016299918500407497,
          0.0024449877750611247,
          0.0024449877750611247,
          0.004074979625101874,
          0.004074979625101874,
          0.0057049714751426246,
          0.0057049714751426246,
          0.0057049714751426246,
          0.008149959250203748,
          0.008149959250203748,
          0.008964955175224124,
          0.008964955175224124,
          0.019559902200488997,
          0.019559902200488997,
          0.023634881825590873,
          0.023634881825590873,
          0.02444987775061125,
          0.02444987775061125,
          0.02852485737571312,
          0.03015484922575387,
          0.037489812550937245,
          0.037489812550937245,
          0.03830480847595762,
          0.03993480032599837,
          0.06927465362673187,
          0.07090464547677261,
          0.11083944580277098,
          0.11246943765281174,
          0.12143439282803586,
          0.12306438467807661,
          0.12550937245313773,
          0.1271393643031785,
          0.19722901385493072,
          0.19885900570497148,
          0.22249388753056235,
          0.2241238793806031,
          0.2575387123064385,
          0.2591687041564792,
          0.29665851670741644,
          0.2982885085574572,
          0.31295843520782396,
          0.3145884270578647,
          0.3895680521597392,
          0.39119804400978,
          0.45639771801140994,
          0.4612876935615322,
          0.4873675631621842,
          0.4889975550122249,
          0.5061124694376528,
          0.5061124694376528,
          0.5077424612876935,
          0.5525672371638142,
          0.5525672371638142,
          0.589242053789731,
          0.589242053789731,
          0.6177669111654441,
          0.6193969030154849,
          0.6373268133659332,
          0.6373268133659332,
          0.6381418092909535,
          0.6397718011409943,
          0.6414017929910351,
          0.6430317848410758,
          0.6511817440912795,
          0.6528117359413202,
          0.6960065199674002,
          0.6976365118174409,
          0.7025264873675632,
          0.7025264873675632,
          0.8198859005704972,
          0.8198859005704972,
          0.823960880195599,
          0.8255908720456397,
          0.8907905460472698,
          0.8924205378973105,
          0.9005704971475142,
          0.902200488997555,
          0.9095354523227384,
          0.9111654441727791,
          1
         ],
         "y": [
          0.39156626506024095,
          0.4036144578313253,
          0.40963855421686746,
          0.42771084337349397,
          0.4457831325301205,
          0.46987951807228917,
          0.4879518072289157,
          0.5,
          0.5783132530120482,
          0.5903614457831325,
          0.8012048192771084,
          0.8012048192771084,
          0.8132530120481928,
          0.8795180722891566,
          0.8795180722891566,
          0.891566265060241,
          0.891566265060241,
          0.9036144578313253,
          0.9036144578313253,
          0.9156626506024096,
          0.927710843373494,
          0.927710843373494,
          0.9337349397590361,
          0.9337349397590361,
          0.9397590361445783,
          0.9397590361445783,
          0.9457831325301205,
          0.9457831325301205,
          0.9518072289156626,
          0.9518072289156626,
          0.9578313253012049,
          0.9578313253012049,
          0.9578313253012049,
          0.9578313253012049,
          0.963855421686747,
          0.963855421686747,
          0.963855421686747,
          0.963855421686747,
          0.963855421686747,
          0.963855421686747,
          0.963855421686747,
          0.963855421686747,
          0.963855421686747,
          0.963855421686747,
          0.963855421686747,
          0.963855421686747,
          0.963855421686747,
          0.963855421686747,
          0.963855421686747,
          0.963855421686747,
          0.963855421686747,
          0.963855421686747,
          0.963855421686747,
          0.963855421686747,
          0.963855421686747,
          0.963855421686747,
          0.963855421686747,
          0.963855421686747,
          0.963855421686747,
          0.963855421686747,
          0.963855421686747,
          0.963855421686747,
          0.9698795180722891,
          0.9698795180722891,
          0.9698795180722891,
          0.9759036144578314,
          0.9759036144578314,
          0.9819277108433735,
          0.9819277108433735,
          0.9819277108433735,
          0.9819277108433735,
          0.9879518072289156,
          0.9879518072289156,
          0.9879518072289156,
          0.9879518072289156,
          0.9879518072289156,
          0.9879518072289156,
          0.9879518072289156,
          0.9879518072289156,
          0.9879518072289156,
          0.9879518072289156,
          0.9939759036144579,
          0.9939759036144579,
          1,
          1,
          1,
          1,
          1,
          1,
          1,
          1,
          1,
          1
         ]
        },
        {
         "line": {
          "color": "green",
          "width": 2
         },
         "mode": "lines",
         "name": "ROC curve Log Reg (area = 0.98476)",
         "type": "scatter",
         "x": [
          0,
          0,
          0,
          0,
          0,
          0,
          0,
          0,
          0,
          0,
          0,
          0,
          0,
          0,
          0,
          0,
          0,
          0,
          0.0008149959250203749,
          0.0008149959250203749,
          0.0008149959250203749,
          0.0008149959250203749,
          0.0008149959250203749,
          0.0008149959250203749,
          0.0016299918500407497,
          0.0016299918500407497,
          0.0032599837000814994,
          0.0032599837000814994,
          0.0032599837000814994,
          0.004074979625101874,
          0.004074979625101874,
          0.004889975550122249,
          0.004889975550122249,
          0.004889975550122249,
          0.004889975550122249,
          0.0057049714751426246,
          0.0057049714751426246,
          0.007334963325183374,
          0.007334963325183374,
          0.015484922575387123,
          0.015484922575387123,
          0.02444987775061125,
          0.026079869600651995,
          0.02689486552567237,
          0.02689486552567237,
          0.030969845150774247,
          0.030969845150774247,
          0.037489812550937245,
          0.037489812550937245,
          0.04971475142624287,
          0.04971475142624287,
          0.07334963325183375,
          0.07497962510187449,
          0.08149959250203749,
          0.08312958435207823,
          0.09861450692746536,
          0.10187449062754686,
          0.14099429502852487,
          0.14099429502852487,
          0.20211898940505296,
          0.20374898125509372,
          0.2632436837815811,
          0.26487367563162184,
          0.2893235533822331,
          0.29095354523227385,
          0.3113284433577832,
          0.31295843520782396,
          0.31784841075794623,
          0.31947840260798693,
          0.3797881010594947,
          0.38467807660961695,
          0.42461287693561534,
          0.4262428687856561,
          0.49144254278728605,
          0.49144254278728605,
          0.5183374083129584,
          0.5199674001629991,
          0.5330073349633252,
          0.534637326813366,
          0.5525672371638142,
          0.5541972290138549,
          0.6414017929910351,
          0.6430317848410758,
          0.6503667481662592,
          0.6519967400162999,
          0.713121434392828,
          0.7147514262428688,
          0.7473512632436837,
          0.7473512632436837,
          0.7489812550937245,
          0.7946210268948656,
          0.7962510187449062,
          0.8215158924205379,
          0.8231458842705787,
          0.8427057864710676,
          0.8443357783211084,
          0.86960065199674,
          0.86960065199674,
          0.9119804400977995,
          0.9136104319478403,
          1
         ],
         "y": [
          0.006024096385542169,
          0.03614457831325301,
          0.04819277108433735,
          0.08433734939759036,
          0.0963855421686747,
          0.10240963855421686,
          0.12650602409638553,
          0.14457831325301204,
          0.1566265060240964,
          0.30120481927710846,
          0.3132530120481928,
          0.3433734939759036,
          0.3614457831325301,
          0.4759036144578313,
          0.4879518072289157,
          0.6807228915662651,
          0.6927710843373494,
          0.7048192771084337,
          0.7048192771084337,
          0.7349397590361446,
          0.7469879518072289,
          0.7530120481927711,
          0.7650602409638554,
          0.7831325301204819,
          0.7831325301204819,
          0.8012048192771084,
          0.8012048192771084,
          0.8132530120481928,
          0.8674698795180723,
          0.8674698795180723,
          0.8795180722891566,
          0.8795180722891566,
          0.891566265060241,
          0.9036144578313253,
          0.9156626506024096,
          0.9156626506024096,
          0.9337349397590361,
          0.9337349397590361,
          0.9457831325301205,
          0.9457831325301205,
          0.9518072289156626,
          0.9518072289156626,
          0.9518072289156626,
          0.9518072289156626,
          0.9578313253012049,
          0.9578313253012049,
          0.963855421686747,
          0.963855421686747,
          0.9698795180722891,
          0.9698795180722891,
          0.9759036144578314,
          0.9759036144578314,
          0.9759036144578314,
          0.9759036144578314,
          0.9759036144578314,
          0.9759036144578314,
          0.9759036144578314,
          0.9759036144578314,
          0.9819277108433735,
          0.9819277108433735,
          0.9819277108433735,
          0.9819277108433735,
          0.9819277108433735,
          0.9819277108433735,
          0.9819277108433735,
          0.9819277108433735,
          0.9819277108433735,
          0.9819277108433735,
          0.9819277108433735,
          0.9819277108433735,
          0.9819277108433735,
          0.9819277108433735,
          0.9819277108433735,
          0.9819277108433735,
          0.9879518072289156,
          0.9879518072289156,
          0.9879518072289156,
          0.9879518072289156,
          0.9879518072289156,
          0.9879518072289156,
          0.9879518072289156,
          0.9879518072289156,
          0.9879518072289156,
          0.9879518072289156,
          0.9879518072289156,
          0.9879518072289156,
          0.9879518072289156,
          0.9879518072289156,
          0.9939759036144579,
          0.9939759036144579,
          0.9939759036144579,
          0.9939759036144579,
          0.9939759036144579,
          0.9939759036144579,
          0.9939759036144579,
          0.9939759036144579,
          0.9939759036144579,
          1,
          1,
          1,
          1
         ]
        },
        {
         "line": {
          "color": "darkorange",
          "width": 2
         },
         "mode": "lines",
         "name": "ROC curve Random Forest (area = 0.99169)",
         "type": "scatter",
         "x": [
          0,
          0,
          0,
          0,
          0,
          0,
          0,
          0,
          0,
          0,
          0,
          0,
          0,
          0,
          0,
          0,
          0,
          0,
          0,
          0,
          0,
          0,
          0,
          0,
          0,
          0,
          0,
          0,
          0,
          0,
          0,
          0,
          0.0016299918500407497,
          0.0032599837000814994,
          0.0032599837000814994,
          0.0032599837000814994,
          0.0032599837000814994,
          0.004074979625101874,
          0.004074979625101874,
          0.006519967400162999,
          0.006519967400162999,
          0.007334963325183374,
          0.008964955175224124,
          0.010594947025264874,
          0.010594947025264874,
          0.011409942950285249,
          0.014669926650366748,
          0.016299918500407497,
          0.018744906275468622,
          0.018744906275468622,
          0.019559902200488997,
          0.022004889975550123,
          0.022819885900570498,
          0.022819885900570498,
          0.02444987775061125,
          0.026079869600651995,
          0.02689486552567237,
          0.030969845150774247,
          0.032599837000814993,
          0.03667481662591687,
          0.037489812550937245,
          0.040749796251018745,
          0.04156479217603912,
          0.045639771801140996,
          0.04645476772616137,
          0.04971475142624287,
          0.05052974735126324,
          0.05297473512632437,
          0.05378973105134474,
          0.05623471882640587,
          0.059494702526487364,
          0.06030969845150774,
          0.06275468622656886,
          0.06519967400162999,
          0.06927465362673187,
          0.07008964955175224,
          0.07171964140179299,
          0.07253463732681337,
          0.07823960880195599,
          0.08068459657701711,
          0.08231458842705787,
          0.08638956805215973,
          0.08883455582722087,
          0.09046454767726161,
          0.097799511002445,
          0.10350448247758762,
          0.10757946210268948,
          0.10839445802770986,
          0.1165444172779136,
          0.11817440912795436,
          0.12795436022819887,
          0.13528932355338225,
          0.13854930725346373,
          0.14506927465362673,
          0.1491442542787286,
          0.16055419722901385,
          0.1621841890790546,
          0.17685411572942136,
          0.18092909535452323,
          0.19315403422982885,
          0.19722901385493072,
          0.21678891605541972,
          0.2241238793806031,
          0.24938875305623473,
          0.254278728606357,
          0.25590872045639773,
          0.25835370823145887,
          0.29095354523227385,
          0.29421352893235536,
          0.29584352078239606,
          0.2982885085574572,
          0.33985330073349634,
          0.35289323553382235,
          0.40749796251018744,
          0.41483292583537085,
          0.41646291768541155,
          0.4278728606356968,
          0.5354523227383863,
          0.556642216788916,
          0.5582722086389568,
          0.5656071719641402,
          0.5696821515892421,
          0.5713121434392828,
          0.5729421352893236,
          0.5835370823145885,
          0.5851670741646292,
          0.5876120619396903,
          0.5908720456397718,
          0.5973920130399348,
          0.6014669926650367,
          0.6039119804400978,
          0.6071719641401793,
          0.6104319478402608,
          0.6136919315403423,
          0.615321923390383,
          1
         ],
         "y": [
          0.03614457831325301,
          0.10843373493975904,
          0.13253012048192772,
          0.16265060240963855,
          0.18072289156626506,
          0.1927710843373494,
          0.2289156626506024,
          0.27710843373493976,
          0.30120481927710846,
          0.3192771084337349,
          0.3433734939759036,
          0.3493975903614458,
          0.4036144578313253,
          0.43373493975903615,
          0.4578313253012048,
          0.4759036144578313,
          0.5,
          0.5301204819277109,
          0.5662650602409639,
          0.5783132530120482,
          0.608433734939759,
          0.6325301204819277,
          0.6566265060240963,
          0.6927710843373494,
          0.7168674698795181,
          0.7289156626506024,
          0.7409638554216867,
          0.7469879518072289,
          0.7650602409638554,
          0.7771084337349398,
          0.7951807228915663,
          0.8192771084337349,
          0.8253012048192772,
          0.8253012048192772,
          0.8373493975903614,
          0.8614457831325302,
          0.9096385542168675,
          0.9096385542168675,
          0.9216867469879518,
          0.9216867469879518,
          0.927710843373494,
          0.927710843373494,
          0.927710843373494,
          0.927710843373494,
          0.9337349397590361,
          0.9397590361445783,
          0.9397590361445783,
          0.9397590361445783,
          0.9397590361445783,
          0.9518072289156626,
          0.9578313253012049,
          0.9578313253012049,
          0.963855421686747,
          0.9698795180722891,
          0.9698795180722891,
          0.9698795180722891,
          0.9698795180722891,
          0.9698795180722891,
          0.9698795180722891,
          0.9698795180722891,
          0.9698795180722891,
          0.9698795180722891,
          0.9698795180722891,
          0.9698795180722891,
          0.9698795180722891,
          0.9698795180722891,
          0.9698795180722891,
          0.9698795180722891,
          0.9698795180722891,
          0.9759036144578314,
          0.9759036144578314,
          0.9759036144578314,
          0.9759036144578314,
          0.9759036144578314,
          0.9759036144578314,
          0.9759036144578314,
          0.9759036144578314,
          0.9759036144578314,
          0.9759036144578314,
          0.9759036144578314,
          0.9759036144578314,
          0.9759036144578314,
          0.9759036144578314,
          0.9759036144578314,
          0.9759036144578314,
          0.9759036144578314,
          0.9819277108433735,
          0.9819277108433735,
          0.9819277108433735,
          0.9819277108433735,
          0.9819277108433735,
          0.9819277108433735,
          0.9819277108433735,
          0.9819277108433735,
          0.9819277108433735,
          0.9819277108433735,
          0.9819277108433735,
          0.9819277108433735,
          0.9819277108433735,
          0.9819277108433735,
          0.9819277108433735,
          0.9819277108433735,
          0.9819277108433735,
          0.9819277108433735,
          0.9819277108433735,
          0.9819277108433735,
          0.9819277108433735,
          0.9879518072289156,
          0.9879518072289156,
          0.9879518072289156,
          0.9879518072289156,
          0.9879518072289156,
          0.9879518072289156,
          1,
          1,
          1,
          1,
          1,
          1,
          1,
          1,
          1,
          1,
          1,
          1,
          1,
          1,
          1,
          1,
          1,
          1,
          1,
          1,
          1,
          1,
          1
         ]
        },
        {
         "line": {
          "color": "navy",
          "dash": "dash",
          "width": 2
         },
         "mode": "lines",
         "showlegend": false,
         "type": "scatter",
         "x": [
          0,
          1
         ],
         "y": [
          0,
          1
         ]
        }
       ],
       "layout": {
        "title": "Receiver operating characteristic example",
        "xaxis": {
         "title": "False Positive Rate"
        },
        "yaxis": {
         "title": "True Positive Rate"
        }
       }
      },
      "text/html": [
       "<div id=\"35038992-ba68-40ce-b770-0a2eb88c62c3\" style=\"height: 525px; width: 100%;\" class=\"plotly-graph-div\"></div><script type=\"text/javascript\">require([\"plotly\"], function(Plotly) { window.PLOTLYENV=window.PLOTLYENV || {};window.PLOTLYENV.BASE_URL=\"https://plot.ly\";Plotly.newPlot(\"35038992-ba68-40ce-b770-0a2eb88c62c3\", [{\"type\": \"scatter\", \"x\": [0.0, 0.0, 0.0, 0.0, 0.0, 0.0, 0.0, 0.0, 0.0, 0.0, 0.0, 0.0016299918500407497, 0.0016299918500407497, 0.0016299918500407497, 0.0024449877750611247, 0.0024449877750611247, 0.004074979625101874, 0.004074979625101874, 0.0057049714751426246, 0.0057049714751426246, 0.0057049714751426246, 0.008149959250203748, 0.008149959250203748, 0.008964955175224124, 0.008964955175224124, 0.019559902200488997, 0.019559902200488997, 0.023634881825590873, 0.023634881825590873, 0.02444987775061125, 0.02444987775061125, 0.02852485737571312, 0.03015484922575387, 0.037489812550937245, 0.037489812550937245, 0.03830480847595762, 0.03993480032599837, 0.06927465362673187, 0.07090464547677261, 0.11083944580277098, 0.11246943765281174, 0.12143439282803586, 0.12306438467807661, 0.12550937245313773, 0.1271393643031785, 0.19722901385493072, 0.19885900570497148, 0.22249388753056235, 0.2241238793806031, 0.2575387123064385, 0.2591687041564792, 0.29665851670741644, 0.2982885085574572, 0.31295843520782396, 0.3145884270578647, 0.3895680521597392, 0.39119804400978, 0.45639771801140994, 0.4612876935615322, 0.4873675631621842, 0.4889975550122249, 0.5061124694376528, 0.5061124694376528, 0.5077424612876935, 0.5525672371638142, 0.5525672371638142, 0.589242053789731, 0.589242053789731, 0.6177669111654441, 0.6193969030154849, 0.6373268133659332, 0.6373268133659332, 0.6381418092909535, 0.6397718011409943, 0.6414017929910351, 0.6430317848410758, 0.6511817440912795, 0.6528117359413202, 0.6960065199674002, 0.6976365118174409, 0.7025264873675632, 0.7025264873675632, 0.8198859005704972, 0.8198859005704972, 0.823960880195599, 0.8255908720456397, 0.8907905460472698, 0.8924205378973105, 0.9005704971475142, 0.902200488997555, 0.9095354523227384, 0.9111654441727791, 1.0], \"y\": [0.39156626506024095, 0.4036144578313253, 0.40963855421686746, 0.42771084337349397, 0.4457831325301205, 0.46987951807228917, 0.4879518072289157, 0.5, 0.5783132530120482, 0.5903614457831325, 0.8012048192771084, 0.8012048192771084, 0.8132530120481928, 0.8795180722891566, 0.8795180722891566, 0.891566265060241, 0.891566265060241, 0.9036144578313253, 0.9036144578313253, 0.9156626506024096, 0.927710843373494, 0.927710843373494, 0.9337349397590361, 0.9337349397590361, 0.9397590361445783, 0.9397590361445783, 0.9457831325301205, 0.9457831325301205, 0.9518072289156626, 0.9518072289156626, 0.9578313253012049, 0.9578313253012049, 0.9578313253012049, 0.9578313253012049, 0.963855421686747, 0.963855421686747, 0.963855421686747, 0.963855421686747, 0.963855421686747, 0.963855421686747, 0.963855421686747, 0.963855421686747, 0.963855421686747, 0.963855421686747, 0.963855421686747, 0.963855421686747, 0.963855421686747, 0.963855421686747, 0.963855421686747, 0.963855421686747, 0.963855421686747, 0.963855421686747, 0.963855421686747, 0.963855421686747, 0.963855421686747, 0.963855421686747, 0.963855421686747, 0.963855421686747, 0.963855421686747, 0.963855421686747, 0.963855421686747, 0.963855421686747, 0.9698795180722891, 0.9698795180722891, 0.9698795180722891, 0.9759036144578314, 0.9759036144578314, 0.9819277108433735, 0.9819277108433735, 0.9819277108433735, 0.9819277108433735, 0.9879518072289156, 0.9879518072289156, 0.9879518072289156, 0.9879518072289156, 0.9879518072289156, 0.9879518072289156, 0.9879518072289156, 0.9879518072289156, 0.9879518072289156, 0.9879518072289156, 0.9939759036144579, 0.9939759036144579, 1.0, 1.0, 1.0, 1.0, 1.0, 1.0, 1.0, 1.0, 1.0, 1.0], \"mode\": \"lines\", \"line\": {\"color\": \"red\", \"width\": 2}, \"name\": \"ROC curve MNB (area = 0.97598)\"}, {\"type\": \"scatter\", \"x\": [0.0, 0.0, 0.0, 0.0, 0.0, 0.0, 0.0, 0.0, 0.0, 0.0, 0.0, 0.0, 0.0, 0.0, 0.0, 0.0, 0.0, 0.0, 0.0008149959250203749, 0.0008149959250203749, 0.0008149959250203749, 0.0008149959250203749, 0.0008149959250203749, 0.0008149959250203749, 0.0016299918500407497, 0.0016299918500407497, 0.0032599837000814994, 0.0032599837000814994, 0.0032599837000814994, 0.004074979625101874, 0.004074979625101874, 0.004889975550122249, 0.004889975550122249, 0.004889975550122249, 0.004889975550122249, 0.0057049714751426246, 0.0057049714751426246, 0.007334963325183374, 0.007334963325183374, 0.015484922575387123, 0.015484922575387123, 0.02444987775061125, 0.026079869600651995, 0.02689486552567237, 0.02689486552567237, 0.030969845150774247, 0.030969845150774247, 0.037489812550937245, 0.037489812550937245, 0.04971475142624287, 0.04971475142624287, 0.07334963325183375, 0.07497962510187449, 0.08149959250203749, 0.08312958435207823, 0.09861450692746536, 0.10187449062754686, 0.14099429502852487, 0.14099429502852487, 0.20211898940505296, 0.20374898125509372, 0.2632436837815811, 0.26487367563162184, 0.2893235533822331, 0.29095354523227385, 0.3113284433577832, 0.31295843520782396, 0.31784841075794623, 0.31947840260798693, 0.3797881010594947, 0.38467807660961695, 0.42461287693561534, 0.4262428687856561, 0.49144254278728605, 0.49144254278728605, 0.5183374083129584, 0.5199674001629991, 0.5330073349633252, 0.534637326813366, 0.5525672371638142, 0.5541972290138549, 0.6414017929910351, 0.6430317848410758, 0.6503667481662592, 0.6519967400162999, 0.713121434392828, 0.7147514262428688, 0.7473512632436837, 0.7473512632436837, 0.7489812550937245, 0.7946210268948656, 0.7962510187449062, 0.8215158924205379, 0.8231458842705787, 0.8427057864710676, 0.8443357783211084, 0.86960065199674, 0.86960065199674, 0.9119804400977995, 0.9136104319478403, 1.0], \"y\": [0.006024096385542169, 0.03614457831325301, 0.04819277108433735, 0.08433734939759036, 0.0963855421686747, 0.10240963855421686, 0.12650602409638553, 0.14457831325301204, 0.1566265060240964, 0.30120481927710846, 0.3132530120481928, 0.3433734939759036, 0.3614457831325301, 0.4759036144578313, 0.4879518072289157, 0.6807228915662651, 0.6927710843373494, 0.7048192771084337, 0.7048192771084337, 0.7349397590361446, 0.7469879518072289, 0.7530120481927711, 0.7650602409638554, 0.7831325301204819, 0.7831325301204819, 0.8012048192771084, 0.8012048192771084, 0.8132530120481928, 0.8674698795180723, 0.8674698795180723, 0.8795180722891566, 0.8795180722891566, 0.891566265060241, 0.9036144578313253, 0.9156626506024096, 0.9156626506024096, 0.9337349397590361, 0.9337349397590361, 0.9457831325301205, 0.9457831325301205, 0.9518072289156626, 0.9518072289156626, 0.9518072289156626, 0.9518072289156626, 0.9578313253012049, 0.9578313253012049, 0.963855421686747, 0.963855421686747, 0.9698795180722891, 0.9698795180722891, 0.9759036144578314, 0.9759036144578314, 0.9759036144578314, 0.9759036144578314, 0.9759036144578314, 0.9759036144578314, 0.9759036144578314, 0.9759036144578314, 0.9819277108433735, 0.9819277108433735, 0.9819277108433735, 0.9819277108433735, 0.9819277108433735, 0.9819277108433735, 0.9819277108433735, 0.9819277108433735, 0.9819277108433735, 0.9819277108433735, 0.9819277108433735, 0.9819277108433735, 0.9819277108433735, 0.9819277108433735, 0.9819277108433735, 0.9819277108433735, 0.9879518072289156, 0.9879518072289156, 0.9879518072289156, 0.9879518072289156, 0.9879518072289156, 0.9879518072289156, 0.9879518072289156, 0.9879518072289156, 0.9879518072289156, 0.9879518072289156, 0.9879518072289156, 0.9879518072289156, 0.9879518072289156, 0.9879518072289156, 0.9939759036144579, 0.9939759036144579, 0.9939759036144579, 0.9939759036144579, 0.9939759036144579, 0.9939759036144579, 0.9939759036144579, 0.9939759036144579, 0.9939759036144579, 1.0, 1.0, 1.0, 1.0], \"mode\": \"lines\", \"line\": {\"color\": \"green\", \"width\": 2}, \"name\": \"ROC curve Log Reg (area = 0.98476)\"}, {\"type\": \"scatter\", \"x\": [0.0, 0.0, 0.0, 0.0, 0.0, 0.0, 0.0, 0.0, 0.0, 0.0, 0.0, 0.0, 0.0, 0.0, 0.0, 0.0, 0.0, 0.0, 0.0, 0.0, 0.0, 0.0, 0.0, 0.0, 0.0, 0.0, 0.0, 0.0, 0.0, 0.0, 0.0, 0.0, 0.0016299918500407497, 0.0032599837000814994, 0.0032599837000814994, 0.0032599837000814994, 0.0032599837000814994, 0.004074979625101874, 0.004074979625101874, 0.006519967400162999, 0.006519967400162999, 0.007334963325183374, 0.008964955175224124, 0.010594947025264874, 0.010594947025264874, 0.011409942950285249, 0.014669926650366748, 0.016299918500407497, 0.018744906275468622, 0.018744906275468622, 0.019559902200488997, 0.022004889975550123, 0.022819885900570498, 0.022819885900570498, 0.02444987775061125, 0.026079869600651995, 0.02689486552567237, 0.030969845150774247, 0.032599837000814993, 0.03667481662591687, 0.037489812550937245, 0.040749796251018745, 0.04156479217603912, 0.045639771801140996, 0.04645476772616137, 0.04971475142624287, 0.05052974735126324, 0.05297473512632437, 0.05378973105134474, 0.05623471882640587, 0.059494702526487364, 0.06030969845150774, 0.06275468622656886, 0.06519967400162999, 0.06927465362673187, 0.07008964955175224, 0.07171964140179299, 0.07253463732681337, 0.07823960880195599, 0.08068459657701711, 0.08231458842705787, 0.08638956805215973, 0.08883455582722087, 0.09046454767726161, 0.097799511002445, 0.10350448247758762, 0.10757946210268948, 0.10839445802770986, 0.1165444172779136, 0.11817440912795436, 0.12795436022819887, 0.13528932355338225, 0.13854930725346373, 0.14506927465362673, 0.1491442542787286, 0.16055419722901385, 0.1621841890790546, 0.17685411572942136, 0.18092909535452323, 0.19315403422982885, 0.19722901385493072, 0.21678891605541972, 0.2241238793806031, 0.24938875305623473, 0.254278728606357, 0.25590872045639773, 0.25835370823145887, 0.29095354523227385, 0.29421352893235536, 0.29584352078239606, 0.2982885085574572, 0.33985330073349634, 0.35289323553382235, 0.40749796251018744, 0.41483292583537085, 0.41646291768541155, 0.4278728606356968, 0.5354523227383863, 0.556642216788916, 0.5582722086389568, 0.5656071719641402, 0.5696821515892421, 0.5713121434392828, 0.5729421352893236, 0.5835370823145885, 0.5851670741646292, 0.5876120619396903, 0.5908720456397718, 0.5973920130399348, 0.6014669926650367, 0.6039119804400978, 0.6071719641401793, 0.6104319478402608, 0.6136919315403423, 0.615321923390383, 1.0], \"y\": [0.03614457831325301, 0.10843373493975904, 0.13253012048192772, 0.16265060240963855, 0.18072289156626506, 0.1927710843373494, 0.2289156626506024, 0.27710843373493976, 0.30120481927710846, 0.3192771084337349, 0.3433734939759036, 0.3493975903614458, 0.4036144578313253, 0.43373493975903615, 0.4578313253012048, 0.4759036144578313, 0.5, 0.5301204819277109, 0.5662650602409639, 0.5783132530120482, 0.608433734939759, 0.6325301204819277, 0.6566265060240963, 0.6927710843373494, 0.7168674698795181, 0.7289156626506024, 0.7409638554216867, 0.7469879518072289, 0.7650602409638554, 0.7771084337349398, 0.7951807228915663, 0.8192771084337349, 0.8253012048192772, 0.8253012048192772, 0.8373493975903614, 0.8614457831325302, 0.9096385542168675, 0.9096385542168675, 0.9216867469879518, 0.9216867469879518, 0.927710843373494, 0.927710843373494, 0.927710843373494, 0.927710843373494, 0.9337349397590361, 0.9397590361445783, 0.9397590361445783, 0.9397590361445783, 0.9397590361445783, 0.9518072289156626, 0.9578313253012049, 0.9578313253012049, 0.963855421686747, 0.9698795180722891, 0.9698795180722891, 0.9698795180722891, 0.9698795180722891, 0.9698795180722891, 0.9698795180722891, 0.9698795180722891, 0.9698795180722891, 0.9698795180722891, 0.9698795180722891, 0.9698795180722891, 0.9698795180722891, 0.9698795180722891, 0.9698795180722891, 0.9698795180722891, 0.9698795180722891, 0.9759036144578314, 0.9759036144578314, 0.9759036144578314, 0.9759036144578314, 0.9759036144578314, 0.9759036144578314, 0.9759036144578314, 0.9759036144578314, 0.9759036144578314, 0.9759036144578314, 0.9759036144578314, 0.9759036144578314, 0.9759036144578314, 0.9759036144578314, 0.9759036144578314, 0.9759036144578314, 0.9759036144578314, 0.9819277108433735, 0.9819277108433735, 0.9819277108433735, 0.9819277108433735, 0.9819277108433735, 0.9819277108433735, 0.9819277108433735, 0.9819277108433735, 0.9819277108433735, 0.9819277108433735, 0.9819277108433735, 0.9819277108433735, 0.9819277108433735, 0.9819277108433735, 0.9819277108433735, 0.9819277108433735, 0.9819277108433735, 0.9819277108433735, 0.9819277108433735, 0.9819277108433735, 0.9819277108433735, 0.9879518072289156, 0.9879518072289156, 0.9879518072289156, 0.9879518072289156, 0.9879518072289156, 0.9879518072289156, 1.0, 1.0, 1.0, 1.0, 1.0, 1.0, 1.0, 1.0, 1.0, 1.0, 1.0, 1.0, 1.0, 1.0, 1.0, 1.0, 1.0, 1.0, 1.0, 1.0, 1.0, 1.0, 1.0], \"mode\": \"lines\", \"line\": {\"color\": \"darkorange\", \"width\": 2}, \"name\": \"ROC curve Random Forest (area = 0.99169)\"}, {\"type\": \"scatter\", \"x\": [0, 1], \"y\": [0, 1], \"mode\": \"lines\", \"line\": {\"color\": \"navy\", \"width\": 2, \"dash\": \"dash\"}, \"showlegend\": false}], {\"title\": \"Receiver operating characteristic example\", \"xaxis\": {\"title\": \"False Positive Rate\"}, \"yaxis\": {\"title\": \"True Positive Rate\"}}, {\"showLink\": true, \"linkText\": \"Export to plot.ly\"})});</script>"
      ],
      "text/vnd.plotly.v1+html": [
       "<div id=\"35038992-ba68-40ce-b770-0a2eb88c62c3\" style=\"height: 525px; width: 100%;\" class=\"plotly-graph-div\"></div><script type=\"text/javascript\">require([\"plotly\"], function(Plotly) { window.PLOTLYENV=window.PLOTLYENV || {};window.PLOTLYENV.BASE_URL=\"https://plot.ly\";Plotly.newPlot(\"35038992-ba68-40ce-b770-0a2eb88c62c3\", [{\"type\": \"scatter\", \"x\": [0.0, 0.0, 0.0, 0.0, 0.0, 0.0, 0.0, 0.0, 0.0, 0.0, 0.0, 0.0016299918500407497, 0.0016299918500407497, 0.0016299918500407497, 0.0024449877750611247, 0.0024449877750611247, 0.004074979625101874, 0.004074979625101874, 0.0057049714751426246, 0.0057049714751426246, 0.0057049714751426246, 0.008149959250203748, 0.008149959250203748, 0.008964955175224124, 0.008964955175224124, 0.019559902200488997, 0.019559902200488997, 0.023634881825590873, 0.023634881825590873, 0.02444987775061125, 0.02444987775061125, 0.02852485737571312, 0.03015484922575387, 0.037489812550937245, 0.037489812550937245, 0.03830480847595762, 0.03993480032599837, 0.06927465362673187, 0.07090464547677261, 0.11083944580277098, 0.11246943765281174, 0.12143439282803586, 0.12306438467807661, 0.12550937245313773, 0.1271393643031785, 0.19722901385493072, 0.19885900570497148, 0.22249388753056235, 0.2241238793806031, 0.2575387123064385, 0.2591687041564792, 0.29665851670741644, 0.2982885085574572, 0.31295843520782396, 0.3145884270578647, 0.3895680521597392, 0.39119804400978, 0.45639771801140994, 0.4612876935615322, 0.4873675631621842, 0.4889975550122249, 0.5061124694376528, 0.5061124694376528, 0.5077424612876935, 0.5525672371638142, 0.5525672371638142, 0.589242053789731, 0.589242053789731, 0.6177669111654441, 0.6193969030154849, 0.6373268133659332, 0.6373268133659332, 0.6381418092909535, 0.6397718011409943, 0.6414017929910351, 0.6430317848410758, 0.6511817440912795, 0.6528117359413202, 0.6960065199674002, 0.6976365118174409, 0.7025264873675632, 0.7025264873675632, 0.8198859005704972, 0.8198859005704972, 0.823960880195599, 0.8255908720456397, 0.8907905460472698, 0.8924205378973105, 0.9005704971475142, 0.902200488997555, 0.9095354523227384, 0.9111654441727791, 1.0], \"y\": [0.39156626506024095, 0.4036144578313253, 0.40963855421686746, 0.42771084337349397, 0.4457831325301205, 0.46987951807228917, 0.4879518072289157, 0.5, 0.5783132530120482, 0.5903614457831325, 0.8012048192771084, 0.8012048192771084, 0.8132530120481928, 0.8795180722891566, 0.8795180722891566, 0.891566265060241, 0.891566265060241, 0.9036144578313253, 0.9036144578313253, 0.9156626506024096, 0.927710843373494, 0.927710843373494, 0.9337349397590361, 0.9337349397590361, 0.9397590361445783, 0.9397590361445783, 0.9457831325301205, 0.9457831325301205, 0.9518072289156626, 0.9518072289156626, 0.9578313253012049, 0.9578313253012049, 0.9578313253012049, 0.9578313253012049, 0.963855421686747, 0.963855421686747, 0.963855421686747, 0.963855421686747, 0.963855421686747, 0.963855421686747, 0.963855421686747, 0.963855421686747, 0.963855421686747, 0.963855421686747, 0.963855421686747, 0.963855421686747, 0.963855421686747, 0.963855421686747, 0.963855421686747, 0.963855421686747, 0.963855421686747, 0.963855421686747, 0.963855421686747, 0.963855421686747, 0.963855421686747, 0.963855421686747, 0.963855421686747, 0.963855421686747, 0.963855421686747, 0.963855421686747, 0.963855421686747, 0.963855421686747, 0.9698795180722891, 0.9698795180722891, 0.9698795180722891, 0.9759036144578314, 0.9759036144578314, 0.9819277108433735, 0.9819277108433735, 0.9819277108433735, 0.9819277108433735, 0.9879518072289156, 0.9879518072289156, 0.9879518072289156, 0.9879518072289156, 0.9879518072289156, 0.9879518072289156, 0.9879518072289156, 0.9879518072289156, 0.9879518072289156, 0.9879518072289156, 0.9939759036144579, 0.9939759036144579, 1.0, 1.0, 1.0, 1.0, 1.0, 1.0, 1.0, 1.0, 1.0, 1.0], \"mode\": \"lines\", \"line\": {\"color\": \"red\", \"width\": 2}, \"name\": \"ROC curve MNB (area = 0.97598)\"}, {\"type\": \"scatter\", \"x\": [0.0, 0.0, 0.0, 0.0, 0.0, 0.0, 0.0, 0.0, 0.0, 0.0, 0.0, 0.0, 0.0, 0.0, 0.0, 0.0, 0.0, 0.0, 0.0008149959250203749, 0.0008149959250203749, 0.0008149959250203749, 0.0008149959250203749, 0.0008149959250203749, 0.0008149959250203749, 0.0016299918500407497, 0.0016299918500407497, 0.0032599837000814994, 0.0032599837000814994, 0.0032599837000814994, 0.004074979625101874, 0.004074979625101874, 0.004889975550122249, 0.004889975550122249, 0.004889975550122249, 0.004889975550122249, 0.0057049714751426246, 0.0057049714751426246, 0.007334963325183374, 0.007334963325183374, 0.015484922575387123, 0.015484922575387123, 0.02444987775061125, 0.026079869600651995, 0.02689486552567237, 0.02689486552567237, 0.030969845150774247, 0.030969845150774247, 0.037489812550937245, 0.037489812550937245, 0.04971475142624287, 0.04971475142624287, 0.07334963325183375, 0.07497962510187449, 0.08149959250203749, 0.08312958435207823, 0.09861450692746536, 0.10187449062754686, 0.14099429502852487, 0.14099429502852487, 0.20211898940505296, 0.20374898125509372, 0.2632436837815811, 0.26487367563162184, 0.2893235533822331, 0.29095354523227385, 0.3113284433577832, 0.31295843520782396, 0.31784841075794623, 0.31947840260798693, 0.3797881010594947, 0.38467807660961695, 0.42461287693561534, 0.4262428687856561, 0.49144254278728605, 0.49144254278728605, 0.5183374083129584, 0.5199674001629991, 0.5330073349633252, 0.534637326813366, 0.5525672371638142, 0.5541972290138549, 0.6414017929910351, 0.6430317848410758, 0.6503667481662592, 0.6519967400162999, 0.713121434392828, 0.7147514262428688, 0.7473512632436837, 0.7473512632436837, 0.7489812550937245, 0.7946210268948656, 0.7962510187449062, 0.8215158924205379, 0.8231458842705787, 0.8427057864710676, 0.8443357783211084, 0.86960065199674, 0.86960065199674, 0.9119804400977995, 0.9136104319478403, 1.0], \"y\": [0.006024096385542169, 0.03614457831325301, 0.04819277108433735, 0.08433734939759036, 0.0963855421686747, 0.10240963855421686, 0.12650602409638553, 0.14457831325301204, 0.1566265060240964, 0.30120481927710846, 0.3132530120481928, 0.3433734939759036, 0.3614457831325301, 0.4759036144578313, 0.4879518072289157, 0.6807228915662651, 0.6927710843373494, 0.7048192771084337, 0.7048192771084337, 0.7349397590361446, 0.7469879518072289, 0.7530120481927711, 0.7650602409638554, 0.7831325301204819, 0.7831325301204819, 0.8012048192771084, 0.8012048192771084, 0.8132530120481928, 0.8674698795180723, 0.8674698795180723, 0.8795180722891566, 0.8795180722891566, 0.891566265060241, 0.9036144578313253, 0.9156626506024096, 0.9156626506024096, 0.9337349397590361, 0.9337349397590361, 0.9457831325301205, 0.9457831325301205, 0.9518072289156626, 0.9518072289156626, 0.9518072289156626, 0.9518072289156626, 0.9578313253012049, 0.9578313253012049, 0.963855421686747, 0.963855421686747, 0.9698795180722891, 0.9698795180722891, 0.9759036144578314, 0.9759036144578314, 0.9759036144578314, 0.9759036144578314, 0.9759036144578314, 0.9759036144578314, 0.9759036144578314, 0.9759036144578314, 0.9819277108433735, 0.9819277108433735, 0.9819277108433735, 0.9819277108433735, 0.9819277108433735, 0.9819277108433735, 0.9819277108433735, 0.9819277108433735, 0.9819277108433735, 0.9819277108433735, 0.9819277108433735, 0.9819277108433735, 0.9819277108433735, 0.9819277108433735, 0.9819277108433735, 0.9819277108433735, 0.9879518072289156, 0.9879518072289156, 0.9879518072289156, 0.9879518072289156, 0.9879518072289156, 0.9879518072289156, 0.9879518072289156, 0.9879518072289156, 0.9879518072289156, 0.9879518072289156, 0.9879518072289156, 0.9879518072289156, 0.9879518072289156, 0.9879518072289156, 0.9939759036144579, 0.9939759036144579, 0.9939759036144579, 0.9939759036144579, 0.9939759036144579, 0.9939759036144579, 0.9939759036144579, 0.9939759036144579, 0.9939759036144579, 1.0, 1.0, 1.0, 1.0], \"mode\": \"lines\", \"line\": {\"color\": \"green\", \"width\": 2}, \"name\": \"ROC curve Log Reg (area = 0.98476)\"}, {\"type\": \"scatter\", \"x\": [0.0, 0.0, 0.0, 0.0, 0.0, 0.0, 0.0, 0.0, 0.0, 0.0, 0.0, 0.0, 0.0, 0.0, 0.0, 0.0, 0.0, 0.0, 0.0, 0.0, 0.0, 0.0, 0.0, 0.0, 0.0, 0.0, 0.0, 0.0, 0.0, 0.0, 0.0, 0.0, 0.0016299918500407497, 0.0032599837000814994, 0.0032599837000814994, 0.0032599837000814994, 0.0032599837000814994, 0.004074979625101874, 0.004074979625101874, 0.006519967400162999, 0.006519967400162999, 0.007334963325183374, 0.008964955175224124, 0.010594947025264874, 0.010594947025264874, 0.011409942950285249, 0.014669926650366748, 0.016299918500407497, 0.018744906275468622, 0.018744906275468622, 0.019559902200488997, 0.022004889975550123, 0.022819885900570498, 0.022819885900570498, 0.02444987775061125, 0.026079869600651995, 0.02689486552567237, 0.030969845150774247, 0.032599837000814993, 0.03667481662591687, 0.037489812550937245, 0.040749796251018745, 0.04156479217603912, 0.045639771801140996, 0.04645476772616137, 0.04971475142624287, 0.05052974735126324, 0.05297473512632437, 0.05378973105134474, 0.05623471882640587, 0.059494702526487364, 0.06030969845150774, 0.06275468622656886, 0.06519967400162999, 0.06927465362673187, 0.07008964955175224, 0.07171964140179299, 0.07253463732681337, 0.07823960880195599, 0.08068459657701711, 0.08231458842705787, 0.08638956805215973, 0.08883455582722087, 0.09046454767726161, 0.097799511002445, 0.10350448247758762, 0.10757946210268948, 0.10839445802770986, 0.1165444172779136, 0.11817440912795436, 0.12795436022819887, 0.13528932355338225, 0.13854930725346373, 0.14506927465362673, 0.1491442542787286, 0.16055419722901385, 0.1621841890790546, 0.17685411572942136, 0.18092909535452323, 0.19315403422982885, 0.19722901385493072, 0.21678891605541972, 0.2241238793806031, 0.24938875305623473, 0.254278728606357, 0.25590872045639773, 0.25835370823145887, 0.29095354523227385, 0.29421352893235536, 0.29584352078239606, 0.2982885085574572, 0.33985330073349634, 0.35289323553382235, 0.40749796251018744, 0.41483292583537085, 0.41646291768541155, 0.4278728606356968, 0.5354523227383863, 0.556642216788916, 0.5582722086389568, 0.5656071719641402, 0.5696821515892421, 0.5713121434392828, 0.5729421352893236, 0.5835370823145885, 0.5851670741646292, 0.5876120619396903, 0.5908720456397718, 0.5973920130399348, 0.6014669926650367, 0.6039119804400978, 0.6071719641401793, 0.6104319478402608, 0.6136919315403423, 0.615321923390383, 1.0], \"y\": [0.03614457831325301, 0.10843373493975904, 0.13253012048192772, 0.16265060240963855, 0.18072289156626506, 0.1927710843373494, 0.2289156626506024, 0.27710843373493976, 0.30120481927710846, 0.3192771084337349, 0.3433734939759036, 0.3493975903614458, 0.4036144578313253, 0.43373493975903615, 0.4578313253012048, 0.4759036144578313, 0.5, 0.5301204819277109, 0.5662650602409639, 0.5783132530120482, 0.608433734939759, 0.6325301204819277, 0.6566265060240963, 0.6927710843373494, 0.7168674698795181, 0.7289156626506024, 0.7409638554216867, 0.7469879518072289, 0.7650602409638554, 0.7771084337349398, 0.7951807228915663, 0.8192771084337349, 0.8253012048192772, 0.8253012048192772, 0.8373493975903614, 0.8614457831325302, 0.9096385542168675, 0.9096385542168675, 0.9216867469879518, 0.9216867469879518, 0.927710843373494, 0.927710843373494, 0.927710843373494, 0.927710843373494, 0.9337349397590361, 0.9397590361445783, 0.9397590361445783, 0.9397590361445783, 0.9397590361445783, 0.9518072289156626, 0.9578313253012049, 0.9578313253012049, 0.963855421686747, 0.9698795180722891, 0.9698795180722891, 0.9698795180722891, 0.9698795180722891, 0.9698795180722891, 0.9698795180722891, 0.9698795180722891, 0.9698795180722891, 0.9698795180722891, 0.9698795180722891, 0.9698795180722891, 0.9698795180722891, 0.9698795180722891, 0.9698795180722891, 0.9698795180722891, 0.9698795180722891, 0.9759036144578314, 0.9759036144578314, 0.9759036144578314, 0.9759036144578314, 0.9759036144578314, 0.9759036144578314, 0.9759036144578314, 0.9759036144578314, 0.9759036144578314, 0.9759036144578314, 0.9759036144578314, 0.9759036144578314, 0.9759036144578314, 0.9759036144578314, 0.9759036144578314, 0.9759036144578314, 0.9759036144578314, 0.9819277108433735, 0.9819277108433735, 0.9819277108433735, 0.9819277108433735, 0.9819277108433735, 0.9819277108433735, 0.9819277108433735, 0.9819277108433735, 0.9819277108433735, 0.9819277108433735, 0.9819277108433735, 0.9819277108433735, 0.9819277108433735, 0.9819277108433735, 0.9819277108433735, 0.9819277108433735, 0.9819277108433735, 0.9819277108433735, 0.9819277108433735, 0.9819277108433735, 0.9819277108433735, 0.9879518072289156, 0.9879518072289156, 0.9879518072289156, 0.9879518072289156, 0.9879518072289156, 0.9879518072289156, 1.0, 1.0, 1.0, 1.0, 1.0, 1.0, 1.0, 1.0, 1.0, 1.0, 1.0, 1.0, 1.0, 1.0, 1.0, 1.0, 1.0, 1.0, 1.0, 1.0, 1.0, 1.0, 1.0], \"mode\": \"lines\", \"line\": {\"color\": \"darkorange\", \"width\": 2}, \"name\": \"ROC curve Random Forest (area = 0.99169)\"}, {\"type\": \"scatter\", \"x\": [0, 1], \"y\": [0, 1], \"mode\": \"lines\", \"line\": {\"color\": \"navy\", \"width\": 2, \"dash\": \"dash\"}, \"showlegend\": false}], {\"title\": \"Receiver operating characteristic example\", \"xaxis\": {\"title\": \"False Positive Rate\"}, \"yaxis\": {\"title\": \"True Positive Rate\"}}, {\"showLink\": true, \"linkText\": \"Export to plot.ly\"})});</script>"
      ]
     },
     "metadata": {},
     "output_type": "display_data"
    }
   ],
   "source": [
    "from plotly.offline import init_notebook_mode, iplot\n",
    "from plotly.graph_objs import *\n",
    "\n",
    "init_notebook_mode(connected=True) \n",
    "iplot(fig)"
   ]
  },
  {
   "cell_type": "code",
   "execution_count": 69,
   "metadata": {},
   "outputs": [],
   "source": [
    "from sklearn.metrics import confusion_matrix\n",
    "\n",
    "def make_confusion_matrix_plotly(y_pred,y_test,model_name,normalize = False):\n",
    "    cm = confusion_matrix(y_test,y_pred)\n",
    "    if normalize:\n",
    "        cm = cm.astype('float') / cm.sum(axis=1)[:, np.newaxis]\n",
    "    trace = go.Heatmap(z= cm,\n",
    "                   x=['Not Spam','Spam'],    \n",
    "                   y=['Not Spam','Spam']\n",
    "                   )\n",
    "    \n",
    "    layout = go.Layout(title='Confusion Matrix: {}'.format(model_name),\n",
    "                   xaxis=dict(title='Predicted Values'),\n",
    "                   yaxis=dict(title='Actual Values'),\n",
    "                   margin = {'l': 80}\n",
    "                       \n",
    "                      )\n",
    "    \n",
    "    fig = go.Figure(data=[trace], layout=layout)\n",
    "    iplot(fig)"
   ]
  },
  {
   "cell_type": "code",
   "execution_count": 71,
   "metadata": {},
   "outputs": [],
   "source": [
    "y_preds_mnb = mnb_model.predict(X_test)\n",
    "y_preds_lr =  lr_model.predict(X_test)\n",
    "y_preds_rf = rf_model.predict(X_test)\n"
   ]
  },
  {
   "cell_type": "code",
   "execution_count": 72,
   "metadata": {},
   "outputs": [
    {
     "data": {
      "application/vnd.plotly.v1+json": {
       "data": [
        {
         "type": "heatmap",
         "x": [
          "Not Spam",
          "Spam"
         ],
         "y": [
          "Not Spam",
          "Spam"
         ],
         "z": [
          [
           0.9918500407497962,
           0.008149959250203748
          ],
          [
           0.06626506024096386,
           0.9337349397590361
          ]
         ]
        }
       ],
       "layout": {
        "margin": {
         "l": 80
        },
        "title": "Confusion Matrix: Multinomial Naive Bayes",
        "xaxis": {
         "title": "Predicted Values"
        },
        "yaxis": {
         "title": "Actual Values"
        }
       }
      },
      "text/html": [
       "<div id=\"9839e9df-5dc9-4b04-809c-a2b96448671e\" style=\"height: 525px; width: 100%;\" class=\"plotly-graph-div\"></div><script type=\"text/javascript\">require([\"plotly\"], function(Plotly) { window.PLOTLYENV=window.PLOTLYENV || {};window.PLOTLYENV.BASE_URL=\"https://plot.ly\";Plotly.newPlot(\"9839e9df-5dc9-4b04-809c-a2b96448671e\", [{\"type\": \"heatmap\", \"z\": [[0.9918500407497962, 0.008149959250203748], [0.06626506024096386, 0.9337349397590361]], \"x\": [\"Not Spam\", \"Spam\"], \"y\": [\"Not Spam\", \"Spam\"]}], {\"title\": \"Confusion Matrix: Multinomial Naive Bayes\", \"xaxis\": {\"title\": \"Predicted Values\"}, \"yaxis\": {\"title\": \"Actual Values\"}, \"margin\": {\"l\": 80}}, {\"showLink\": true, \"linkText\": \"Export to plot.ly\"})});</script>"
      ],
      "text/vnd.plotly.v1+html": [
       "<div id=\"9839e9df-5dc9-4b04-809c-a2b96448671e\" style=\"height: 525px; width: 100%;\" class=\"plotly-graph-div\"></div><script type=\"text/javascript\">require([\"plotly\"], function(Plotly) { window.PLOTLYENV=window.PLOTLYENV || {};window.PLOTLYENV.BASE_URL=\"https://plot.ly\";Plotly.newPlot(\"9839e9df-5dc9-4b04-809c-a2b96448671e\", [{\"type\": \"heatmap\", \"z\": [[0.9918500407497962, 0.008149959250203748], [0.06626506024096386, 0.9337349397590361]], \"x\": [\"Not Spam\", \"Spam\"], \"y\": [\"Not Spam\", \"Spam\"]}], {\"title\": \"Confusion Matrix: Multinomial Naive Bayes\", \"xaxis\": {\"title\": \"Predicted Values\"}, \"yaxis\": {\"title\": \"Actual Values\"}, \"margin\": {\"l\": 80}}, {\"showLink\": true, \"linkText\": \"Export to plot.ly\"})});</script>"
      ]
     },
     "metadata": {},
     "output_type": "display_data"
    }
   ],
   "source": [
    "make_confusion_matrix_plotly(y_preds_mnb,y_test,'Multinomial Naive Bayes',normalize=True)"
   ]
  },
  {
   "cell_type": "code",
   "execution_count": 73,
   "metadata": {},
   "outputs": [
    {
     "data": {
      "application/vnd.plotly.v1+json": {
       "data": [
        {
         "type": "heatmap",
         "x": [
          "Not Spam",
          "Spam"
         ],
         "y": [
          "Not Spam",
          "Spam"
         ],
         "z": [
          [
           0.9951100244498777,
           0.004889975550122249
          ],
          [
           0.12048192771084337,
           0.8795180722891566
          ]
         ]
        }
       ],
       "layout": {
        "margin": {
         "l": 80
        },
        "title": "Confusion Matrix: Logistic Regression",
        "xaxis": {
         "title": "Predicted Values"
        },
        "yaxis": {
         "title": "Actual Values"
        }
       }
      },
      "text/html": [
       "<div id=\"0ea34dea-26cf-4d23-9f2b-c780a5cf08a1\" style=\"height: 525px; width: 100%;\" class=\"plotly-graph-div\"></div><script type=\"text/javascript\">require([\"plotly\"], function(Plotly) { window.PLOTLYENV=window.PLOTLYENV || {};window.PLOTLYENV.BASE_URL=\"https://plot.ly\";Plotly.newPlot(\"0ea34dea-26cf-4d23-9f2b-c780a5cf08a1\", [{\"type\": \"heatmap\", \"z\": [[0.9951100244498777, 0.004889975550122249], [0.12048192771084337, 0.8795180722891566]], \"x\": [\"Not Spam\", \"Spam\"], \"y\": [\"Not Spam\", \"Spam\"]}], {\"title\": \"Confusion Matrix: Logistic Regression\", \"xaxis\": {\"title\": \"Predicted Values\"}, \"yaxis\": {\"title\": \"Actual Values\"}, \"margin\": {\"l\": 80}}, {\"showLink\": true, \"linkText\": \"Export to plot.ly\"})});</script>"
      ],
      "text/vnd.plotly.v1+html": [
       "<div id=\"0ea34dea-26cf-4d23-9f2b-c780a5cf08a1\" style=\"height: 525px; width: 100%;\" class=\"plotly-graph-div\"></div><script type=\"text/javascript\">require([\"plotly\"], function(Plotly) { window.PLOTLYENV=window.PLOTLYENV || {};window.PLOTLYENV.BASE_URL=\"https://plot.ly\";Plotly.newPlot(\"0ea34dea-26cf-4d23-9f2b-c780a5cf08a1\", [{\"type\": \"heatmap\", \"z\": [[0.9951100244498777, 0.004889975550122249], [0.12048192771084337, 0.8795180722891566]], \"x\": [\"Not Spam\", \"Spam\"], \"y\": [\"Not Spam\", \"Spam\"]}], {\"title\": \"Confusion Matrix: Logistic Regression\", \"xaxis\": {\"title\": \"Predicted Values\"}, \"yaxis\": {\"title\": \"Actual Values\"}, \"margin\": {\"l\": 80}}, {\"showLink\": true, \"linkText\": \"Export to plot.ly\"})});</script>"
      ]
     },
     "metadata": {},
     "output_type": "display_data"
    }
   ],
   "source": [
    "make_confusion_matrix_plotly(y_preds_lr,y_test,'Logistic Regression',normalize=True)"
   ]
  },
  {
   "cell_type": "code",
   "execution_count": 74,
   "metadata": {},
   "outputs": [
    {
     "data": {
      "application/vnd.plotly.v1+json": {
       "data": [
        {
         "type": "heatmap",
         "x": [
          "Not Spam",
          "Spam"
         ],
         "y": [
          "Not Spam",
          "Spam"
         ],
         "z": [
          [
           0.9967400162999185,
           0.0032599837000814994
          ],
          [
           0.12048192771084337,
           0.8795180722891566
          ]
         ]
        }
       ],
       "layout": {
        "margin": {
         "l": 80
        },
        "title": "Confusion Matrix: Random Forest",
        "xaxis": {
         "title": "Predicted Values"
        },
        "yaxis": {
         "title": "Actual Values"
        }
       }
      },
      "text/html": [
       "<div id=\"4cf28e3c-0ee0-4670-ab1e-333151572916\" style=\"height: 525px; width: 100%;\" class=\"plotly-graph-div\"></div><script type=\"text/javascript\">require([\"plotly\"], function(Plotly) { window.PLOTLYENV=window.PLOTLYENV || {};window.PLOTLYENV.BASE_URL=\"https://plot.ly\";Plotly.newPlot(\"4cf28e3c-0ee0-4670-ab1e-333151572916\", [{\"type\": \"heatmap\", \"z\": [[0.9967400162999185, 0.0032599837000814994], [0.12048192771084337, 0.8795180722891566]], \"x\": [\"Not Spam\", \"Spam\"], \"y\": [\"Not Spam\", \"Spam\"]}], {\"title\": \"Confusion Matrix: Random Forest\", \"xaxis\": {\"title\": \"Predicted Values\"}, \"yaxis\": {\"title\": \"Actual Values\"}, \"margin\": {\"l\": 80}}, {\"showLink\": true, \"linkText\": \"Export to plot.ly\"})});</script>"
      ],
      "text/vnd.plotly.v1+html": [
       "<div id=\"4cf28e3c-0ee0-4670-ab1e-333151572916\" style=\"height: 525px; width: 100%;\" class=\"plotly-graph-div\"></div><script type=\"text/javascript\">require([\"plotly\"], function(Plotly) { window.PLOTLYENV=window.PLOTLYENV || {};window.PLOTLYENV.BASE_URL=\"https://plot.ly\";Plotly.newPlot(\"4cf28e3c-0ee0-4670-ab1e-333151572916\", [{\"type\": \"heatmap\", \"z\": [[0.9967400162999185, 0.0032599837000814994], [0.12048192771084337, 0.8795180722891566]], \"x\": [\"Not Spam\", \"Spam\"], \"y\": [\"Not Spam\", \"Spam\"]}], {\"title\": \"Confusion Matrix: Random Forest\", \"xaxis\": {\"title\": \"Predicted Values\"}, \"yaxis\": {\"title\": \"Actual Values\"}, \"margin\": {\"l\": 80}}, {\"showLink\": true, \"linkText\": \"Export to plot.ly\"})});</script>"
      ]
     },
     "metadata": {},
     "output_type": "display_data"
    }
   ],
   "source": [
    "make_confusion_matrix_plotly(y_preds_rf,y_test,'Random Forest',normalize=True)"
   ]
  }
 ],
 "metadata": {
  "kernelspec": {
   "display_name": "Python 3",
   "language": "python",
   "name": "python3"
  },
  "language_info": {
   "codemirror_mode": {
    "name": "ipython",
    "version": 3
   },
   "file_extension": ".py",
   "mimetype": "text/x-python",
   "name": "python",
   "nbconvert_exporter": "python",
   "pygments_lexer": "ipython3",
   "version": "3.6.5"
  }
 },
 "nbformat": 4,
 "nbformat_minor": 2
}
